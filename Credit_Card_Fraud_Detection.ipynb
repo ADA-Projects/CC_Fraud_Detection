{
 "cells": [
  {
   "cell_type": "markdown",
   "id": "29343997",
   "metadata": {},
   "source": [
    "# Credit Card Fraud Detection\n",
    "\n",
    "An end-to-end workflow for building, evaluating, and deploying an XGBoost fraud detection model."
   ]
  },
  {
   "cell_type": "code",
   "execution_count": 1,
   "id": "7f0bef5a",
   "metadata": {},
   "outputs": [
    {
     "name": "stdout",
     "output_type": "stream",
     "text": [
      "Train shape: (1296675, 23) Test shape: (555719, 23)\n"
     ]
    }
   ],
   "source": [
    "import os\n",
    "import pandas as pd\n",
    "import numpy as np\n",
    "import joblib\n",
    "from sklearn.preprocessing import LabelEncoder\n",
    "from xgboost import XGBClassifier\n",
    "from sklearn.metrics import classification_report, confusion_matrix\n",
    "\n",
    "# 1. Load data\n",
    "base_path = os.path.expanduser('~/.cache/kagglehub/datasets/kartik2112/fraud-detection/versions/1')\n",
    "df_train = pd.read_csv(f\"{base_path}/fraudTrain.csv\")\n",
    "df_test  = pd.read_csv(f\"{base_path}/fraudTest.csv\")\n",
    "print(\"Train shape:\", df_train.shape, \"Test shape:\", df_test.shape)\n"
   ]
  },
  {
   "cell_type": "code",
   "execution_count": 3,
   "id": "27de3b21",
   "metadata": {},
   "outputs": [],
   "source": [
    "# 2. Preprocessing function\n",
    "from scripts.process import preprocess  # adjust path if needed\n",
    "# Fit label encoder on categories for later use\n",
    "le_category = LabelEncoder().fit(df_train['category'].astype(str))\n",
    "joblib.dump(le_category, 'streamlit_app/le_category.joblib')\n",
    "\n",
    "# Apply preprocessing\n",
    "cat_rates = df_train.groupby('category')['is_fraud'].mean()\n",
    "df_train_prep = preprocess(df_train, cat_rates)\n",
    "df_test_prep  = preprocess(df_test,  cat_rates)\n",
    "\n",
    "X_train = df_train_prep.drop(columns=['is_fraud'])\n",
    "y_train = df_train_prep['is_fraud']\n",
    "X_test  = df_test_prep .drop(columns=['is_fraud'])\n",
    "y_test  = df_test_prep ['is_fraud']\n"
   ]
  },
  {
   "cell_type": "code",
   "execution_count": 4,
   "id": "9a8ade29",
   "metadata": {},
   "outputs": [
    {
     "name": "stderr",
     "output_type": "stream",
     "text": [
      "/opt/conda/envs/fraud-detect/lib/python3.11/site-packages/xgboost/training.py:183: UserWarning: [08:59:06] WARNING: /workspace/src/learner.cc:738: \n",
      "Parameters: { \"use_label_encoder\" } are not used.\n",
      "\n",
      "  bst.update(dtrain, iteration=i, fobj=obj)\n"
     ]
    },
    {
     "name": "stdout",
     "output_type": "stream",
     "text": [
      "Confusion Matrix:\n",
      "[[553009    565]\n",
      " [   600   1545]]\n",
      "              precision    recall  f1-score   support\n",
      "\n",
      "           0     0.9989    0.9990    0.9989    553574\n",
      "           1     0.7322    0.7203    0.7262      2145\n",
      "\n",
      "    accuracy                         0.9979    555719\n",
      "   macro avg     0.8656    0.8596    0.8626    555719\n",
      "weighted avg     0.9979    0.9979    0.9979    555719\n",
      "\n"
     ]
    }
   ],
   "source": [
    "# 3. Model training\n",
    "model = XGBClassifier(\n",
    "    colsample_bytree=0.8,\n",
    "    learning_rate=0.15,\n",
    "    max_depth=10,\n",
    "    n_estimators=350,\n",
    "    subsample=1.0,\n",
    "    objective='binary:logistic',\n",
    "    eval_metric='logloss',\n",
    "    use_label_encoder=False,\n",
    "    scale_pos_weight=(y_train==0).sum()/(y_train==1).sum(),\n",
    "    random_state=42\n",
    ")\n",
    "model.fit(X_train, y_train)\n",
    "y_pred = model.predict(X_test)\n",
    "print(\"Confusion Matrix:\")\n",
    "print(confusion_matrix(y_test, y_pred))\n",
    "print(classification_report(y_test, y_pred, digits=4))\n"
   ]
  },
  {
   "cell_type": "code",
   "execution_count": 5,
   "id": "15f089db",
   "metadata": {},
   "outputs": [
    {
     "data": {
      "text/plain": [
       "['streamlit_app/uf_names.joblib']"
      ]
     },
     "execution_count": 5,
     "metadata": {},
     "output_type": "execute_result"
    }
   ],
   "source": [
    "# 4. Save artifacts\n",
    "joblib.dump(model, 'streamlit_app/final_model.joblib')\n",
    "joblib.dump(cat_rates, 'streamlit_app/category_rates.joblib')\n",
    "\n",
    "uf_names = {\n",
    "    \"misc_net\":        \"Miscellaneous (Online)\",\n",
    "    \"grocery_pos\":     \"Grocery (In-Store)\",\n",
    "    \"entertainment\":   \"Entertainment\",\n",
    "    \"gas_transport\":   \"Gas & Transport\",\n",
    "    \"misc_pos\":        \"Miscellaneous (Point-of-Sale)\",\n",
    "    \"grocery_net\":     \"Grocery (Online)\",\n",
    "    \"shopping_net\":    \"Shopping (Online)\",\n",
    "    \"shopping_pos\":    \"Shopping (In-Store)\",\n",
    "    \"food_dining\":     \"Food & Dining\",\n",
    "    \"personal_care\":   \"Personal Care\",\n",
    "    \"health_fitness\":  \"Health & Fitness\",\n",
    "    \"travel\":          \"Travel\",\n",
    "    \"kids_pets\":       \"Kids & Pets\",\n",
    "    \"home\":            \"Home\"\n",
    "}\n",
    "joblib.dump(uf_names, 'streamlit_app/uf_names.joblib')\n"
   ]
  },
  {
   "cell_type": "markdown",
   "id": "bf8016d8",
   "metadata": {},
   "source": [
    "**End of notebook.**"
   ]
  }
 ],
 "metadata": {
  "kernelspec": {
   "display_name": "fraud-detect",
   "language": "python",
   "name": "python3"
  },
  "language_info": {
   "codemirror_mode": {
    "name": "ipython",
    "version": 3
   },
   "file_extension": ".py",
   "mimetype": "text/x-python",
   "name": "python",
   "nbconvert_exporter": "python",
   "pygments_lexer": "ipython3",
   "version": "3.11.11"
  }
 },
 "nbformat": 4,
 "nbformat_minor": 5
}
