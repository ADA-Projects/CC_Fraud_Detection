{
 "cells": [
  {
   "cell_type": "markdown",
   "id": "29343997",
   "metadata": {},
   "source": [
    "# Credit Card Fraud Detection\n",
    "\n",
    "An end-to-end workflow for building, evaluating, and deploying an XGBoost fraud detection model."
   ]
  },
  {
   "cell_type": "code",
   "execution_count": null,
   "id": "7f0bef5a",
   "metadata": {},
   "outputs": [],
   "source": [
    "import os\n",
    "import pandas as pd\n",
    "import numpy as np\n",
    "import joblib\n",
    "from sklearn.preprocessing import LabelEncoder\n",
    "from xgboost import XGBClassifier\n",
    "from sklearn.metrics import classification_report, confusion_matrix\n",
    "\n",
    "# 1. Load data\n",
    "base_path = os.path.expanduser('~/.cache/kagglehub/datasets/kartik2112/fraud-detection/versions/1')\n",
    "df_train = pd.read_csv(f\"{base_path}/fraudTrain.csv\")\n",
    "df_test  = pd.read_csv(f\"{base_path}/fraudTest.csv\")\n",
    "print(\"Train shape:\", df_train.shape, \"Test shape:\", df_test.shape)\n"
   ]
  },
  {
   "cell_type": "code",
   "execution_count": null,
   "id": "27de3b21",
   "metadata": {},
   "outputs": [],
   "source": [
    "# 2. Preprocessing function\n",
    "from scripts.process import preprocess  # adjust path if needed\n",
    "# Fit label encoder on categories for later use\n",
    "le_category = LabelEncoder().fit(df_train['category'].astype(str))\n",
    "joblib.dump(le_category, 'streamlit_app/le_category.joblib')\n",
    "\n",
    "# Apply preprocessing\n",
    "cat_rates = df_train.join(df_train['is_fraud']).groupby('category')['is_fraud'].mean()\n",
    "df_train_prep = preprocess(df_train, cat_rates)\n",
    "df_test_prep  = preprocess(df_test,  cat_rates)\n",
    "\n",
    "X_train = df_train_prep.drop(columns=['is_fraud'])\n",
    "y_train = df_train_prep['is_fraud']\n",
    "X_test  = df_test_prep .drop(columns=['is_fraud'])\n",
    "y_test  = df_test_prep ['is_fraud']\n"
   ]
  },
  {
   "cell_type": "code",
   "execution_count": null,
   "id": "9a8ade29",
   "metadata": {},
   "outputs": [],
   "source": [
    "# 3. Model training\n",
    "model = XGBClassifier(\n",
    "    colsample_bytree=0.8,\n",
    "    learning_rate=0.15,\n",
    "    max_depth=10,\n",
    "    n_estimators=350,\n",
    "    subsample=1.0,\n",
    "    objective='binary:logistic',\n",
    "    eval_metric='logloss',\n",
    "    use_label_encoder=False,\n",
    "    scale_pos_weight=(y_train==0).sum()/(y_train==1).sum(),\n",
    "    random_state=42\n",
    ")\n",
    "model.fit(X_train, y_train)\n",
    "y_pred = model.predict(X_test)\n",
    "print(\"Confusion Matrix:\")\n",
    "print(confusion_matrix(y_test, y_pred))\n",
    "print(classification_report(y_test, y_pred, digits=4))\n"
   ]
  },
  {
   "cell_type": "code",
   "execution_count": null,
   "id": "15f089db",
   "metadata": {},
   "outputs": [],
   "source": [
    "# 4. Save artifacts\n",
    "joblib.dump(model, 'streamlit_app/final_model.joblib')\n",
    "joblib.dump(cat_rates, 'streamlit_app/category_rates.joblib')\n",
    "\n",
    "uf_names = {\n",
    "    \"misc_net\": \"Miscellaneous (Online)\", \"grocery_pos\": \"Grocery (In-Store)\",\n",
    "    # ... add remaining categories ...\n",
    "}\n",
    "joblib.dump(uf_names, 'streamlit_app/uf_names.joblib')\n"
   ]
  },
  {
   "cell_type": "markdown",
   "id": "bf8016d8",
   "metadata": {},
   "source": [
    "**End of notebook.**"
   ]
  }
 ],
 "metadata": {
  "language_info": {
   "name": "python"
  }
 },
 "nbformat": 4,
 "nbformat_minor": 5
}
