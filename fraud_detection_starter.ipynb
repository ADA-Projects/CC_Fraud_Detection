{
 "cells": [
  {
   "cell_type": "markdown",
   "id": "14da112f",
   "metadata": {},
   "source": [
    "# Credit Card Fraud Detection\n",
    "This notebook walks through building a fraud detection model using Kaggle's credit card dataset."
   ]
  },
  {
   "cell_type": "markdown",
   "id": "f4b19dfb",
   "metadata": {},
   "source": [
    "## Step 1: Load and Explore Data"
   ]
  },
  {
   "cell_type": "code",
   "execution_count": 1,
   "id": "9f0248e1",
   "metadata": {},
   "outputs": [],
   "source": [
    "import os\n",
    "import shutil\n",
    "\n",
    "# Move kaggle.json to ~/.kaggle\n",
    "os.makedirs(os.path.expanduser(\"~/.kaggle\"), exist_ok=True)\n",
    "shutil.copy(\"kaggle.json\", os.path.expanduser(\"~/.kaggle/kaggle.json\"))\n",
    "\n",
    "# Set permissions\n",
    "os.chmod(os.path.expanduser(\"~/.kaggle/kaggle.json\"), 0o600)\n"
   ]
  },
  {
   "cell_type": "code",
   "execution_count": 3,
   "id": "0613d682",
   "metadata": {},
   "outputs": [
    {
     "name": "stderr",
     "output_type": "stream",
     "text": [
      "/opt/conda/envs/fraud-detect/lib/python3.11/site-packages/tqdm/auto.py:21: TqdmWarning: IProgress not found. Please update jupyter and ipywidgets. See https://ipywidgets.readthedocs.io/en/stable/user_install.html\n",
      "  from .autonotebook import tqdm as notebook_tqdm\n"
     ]
    },
    {
     "name": "stdout",
     "output_type": "stream",
     "text": [
      "Downloading from https://www.kaggle.com/api/v1/datasets/download/kartik2112/fraud-detection?dataset_version_number=1...\n"
     ]
    },
    {
     "name": "stderr",
     "output_type": "stream",
     "text": [
      "100%|██████████| 202M/202M [00:05<00:00, 39.3MB/s] "
     ]
    },
    {
     "name": "stdout",
     "output_type": "stream",
     "text": [
      "Extracting files...\n"
     ]
    },
    {
     "name": "stderr",
     "output_type": "stream",
     "text": [
      "\n"
     ]
    },
    {
     "name": "stdout",
     "output_type": "stream",
     "text": [
      "Path to dataset files: /home/codespace/.cache/kagglehub/datasets/kartik2112/fraud-detection/versions/1\n"
     ]
    }
   ],
   "source": [
    "import kagglehub\n",
    "\n",
    "# Download latest version\n",
    "path = kagglehub.dataset_download(\"kartik2112/fraud-detection\")\n",
    "\n",
    "print(\"Path to dataset files:\", path)\n"
   ]
  },
  {
   "cell_type": "code",
   "execution_count": 4,
   "id": "a9b41809",
   "metadata": {},
   "outputs": [
    {
     "name": "stdout",
     "output_type": "stream",
     "text": [
      "['fraudTrain.csv', 'fraudTest.csv']\n"
     ]
    }
   ],
   "source": [
    "import os\n",
    "\n",
    "download_path = \"/home/codespace/.cache/kagglehub/datasets/kartik2112/fraud-detection/versions/1\"\n",
    "print(os.listdir(download_path))\n"
   ]
  },
  {
   "cell_type": "code",
   "execution_count": 2,
   "id": "6a6bb1cf",
   "metadata": {},
   "outputs": [
    {
     "name": "stdout",
     "output_type": "stream",
     "text": [
      "Train shape: (1296675, 23)\n",
      "Test shape: (555719, 23)\n"
     ]
    }
   ],
   "source": [
    "import pandas as pd\n",
    "\n",
    "base_path = \"/home/codespace/.cache/kagglehub/datasets/kartik2112/fraud-detection/versions/1\"\n",
    "\n",
    "df_train = pd.read_csv(f\"{base_path}/fraudTrain.csv\")\n",
    "df_test = pd.read_csv(f\"{base_path}/fraudTest.csv\")\n",
    "\n",
    "print(\"Train shape:\", df_train.shape)\n",
    "print(\"Test shape:\", df_test.shape)\n"
   ]
  },
  {
   "cell_type": "markdown",
   "id": "05f7d09a",
   "metadata": {},
   "source": [
    "## Step 2: Preprocessing"
   ]
  },
  {
   "cell_type": "code",
   "execution_count": 3,
   "id": "7d023eaa",
   "metadata": {},
   "outputs": [],
   "source": [
    "import sys\n",
    "sys.path.append('scripts')  # adds scripts folder to path\n",
    "\n",
    "import importlib\n",
    "import process\n",
    "\n",
    "importlib.reload(process)\n",
    "from process import preprocess"
   ]
  },
  {
   "cell_type": "code",
   "execution_count": 4,
   "id": "5380b152",
   "metadata": {},
   "outputs": [],
   "source": [
    "# Preprocess\n",
    "df_train_prep = preprocess(df_train)\n",
    "df_test_prep = preprocess(df_test)\n",
    "\n",
    "X_train = df_train_prep.drop(columns=['is_fraud'])\n",
    "y_train = df_train_prep['is_fraud']\n",
    "\n",
    "X_test = df_test_prep.drop(columns=['is_fraud'])\n",
    "y_test = df_test_prep['is_fraud']\n",
    "\n",
    "# Find categorical column indices\n",
    "categorical_features = X_train.select_dtypes(include='int').columns  # already label encoded\n",
    "categorical_indices = [X_train.columns.get_loc(col) for col in categorical_features if col in ['merchant', 'category', 'gender', 'city', 'state', 'job']]\n"
   ]
  },
  {
   "cell_type": "markdown",
   "id": "d9ab0273",
   "metadata": {},
   "source": [
    "## Step 3: Train XGBoost Model"
   ]
  },
  {
   "cell_type": "code",
   "execution_count": 5,
   "id": "d11fd29f",
   "metadata": {},
   "outputs": [
    {
     "name": "stderr",
     "output_type": "stream",
     "text": [
      "/opt/conda/envs/fraud-detect/lib/python3.11/site-packages/xgboost/training.py:183: UserWarning: [14:33:25] WARNING: /workspace/src/learner.cc:738: \n",
      "Parameters: { \"use_label_encoder\" } are not used.\n",
      "\n",
      "  bst.update(dtrain, iteration=i, fobj=obj)\n"
     ]
    },
    {
     "name": "stdout",
     "output_type": "stream",
     "text": [
      "[[548261   5313]\n",
      " [   260   1885]]\n",
      "              precision    recall  f1-score   support\n",
      "\n",
      "           0     0.9995    0.9904    0.9949    553574\n",
      "           1     0.2619    0.8788    0.4035      2145\n",
      "\n",
      "    accuracy                         0.9900    555719\n",
      "   macro avg     0.6307    0.9346    0.6992    555719\n",
      "weighted avg     0.9967    0.9900    0.9927    555719\n",
      "\n"
     ]
    }
   ],
   "source": [
    "from xgboost import XGBClassifier\n",
    "from sklearn.metrics import classification_report, confusion_matrix\n",
    "\n",
    "# Calculate the imbalance ratio\n",
    "scale_pos_weight = (y_train == 0).sum() / (y_train == 1).sum()\n",
    "\n",
    "# Initialize model\n",
    "model = XGBClassifier(scale_pos_weight=scale_pos_weight, \n",
    "                      use_label_encoder=False, \n",
    "                      eval_metric='logloss', \n",
    "                      random_state=42)\n",
    "\n",
    "# Train\n",
    "model.fit(X_train, y_train)\n",
    "\n",
    "# Predict\n",
    "y_pred = model.predict(X_test)\n",
    "\n",
    "# Evaluate\n",
    "print(confusion_matrix(y_test, y_pred))\n",
    "print(classification_report(y_test, y_pred, digits=4))\n"
   ]
  },
  {
   "cell_type": "markdown",
   "id": "77aa0346",
   "metadata": {},
   "source": [
    "## Step 4: grid search for XGBoost with Cross-validation"
   ]
  },
  {
   "cell_type": "markdown",
   "id": "38becbf6",
   "metadata": {},
   "source": [
    "You can skip running this cell. Check below for the best parameters already found."
   ]
  },
  {
   "cell_type": "code",
   "execution_count": 10,
   "id": "95887a62",
   "metadata": {},
   "outputs": [
    {
     "name": "stdout",
     "output_type": "stream",
     "text": [
      "Fitting 3 folds for each of 20 candidates, totalling 60 fits\n"
     ]
    },
    {
     "name": "stderr",
     "output_type": "stream",
     "text": [
      "/opt/conda/envs/fraud-detect/lib/python3.11/site-packages/xgboost/training.py:183: UserWarning: [19:59:08] WARNING: /workspace/src/learner.cc:738: \n",
      "Parameters: { \"use_label_encoder\" } are not used.\n",
      "\n",
      "  bst.update(dtrain, iteration=i, fobj=obj)\n"
     ]
    },
    {
     "name": "stdout",
     "output_type": "stream",
     "text": [
      "[CV] END colsample_bytree=0.8, learning_rate=0.01, max_depth=9, n_estimators=300, subsample=0.6; total time=  26.7s\n"
     ]
    },
    {
     "name": "stderr",
     "output_type": "stream",
     "text": [
      "/opt/conda/envs/fraud-detect/lib/python3.11/site-packages/xgboost/training.py:183: UserWarning: [19:59:34] WARNING: /workspace/src/learner.cc:738: \n",
      "Parameters: { \"use_label_encoder\" } are not used.\n",
      "\n",
      "  bst.update(dtrain, iteration=i, fobj=obj)\n"
     ]
    },
    {
     "name": "stdout",
     "output_type": "stream",
     "text": [
      "[CV] END colsample_bytree=0.8, learning_rate=0.01, max_depth=9, n_estimators=300, subsample=0.6; total time=  26.4s\n"
     ]
    },
    {
     "name": "stderr",
     "output_type": "stream",
     "text": [
      "/opt/conda/envs/fraud-detect/lib/python3.11/site-packages/xgboost/training.py:183: UserWarning: [20:00:01] WARNING: /workspace/src/learner.cc:738: \n",
      "Parameters: { \"use_label_encoder\" } are not used.\n",
      "\n",
      "  bst.update(dtrain, iteration=i, fobj=obj)\n"
     ]
    },
    {
     "name": "stdout",
     "output_type": "stream",
     "text": [
      "[CV] END colsample_bytree=0.8, learning_rate=0.01, max_depth=9, n_estimators=300, subsample=0.6; total time=  26.6s\n"
     ]
    },
    {
     "name": "stderr",
     "output_type": "stream",
     "text": [
      "/opt/conda/envs/fraud-detect/lib/python3.11/site-packages/xgboost/training.py:183: UserWarning: [20:00:27] WARNING: /workspace/src/learner.cc:738: \n",
      "Parameters: { \"use_label_encoder\" } are not used.\n",
      "\n",
      "  bst.update(dtrain, iteration=i, fobj=obj)\n"
     ]
    },
    {
     "name": "stdout",
     "output_type": "stream",
     "text": [
      "[CV] END colsample_bytree=0.6, learning_rate=0.1, max_depth=5, n_estimators=500, subsample=0.8; total time=  25.6s\n"
     ]
    },
    {
     "name": "stderr",
     "output_type": "stream",
     "text": [
      "/opt/conda/envs/fraud-detect/lib/python3.11/site-packages/xgboost/training.py:183: UserWarning: [20:00:53] WARNING: /workspace/src/learner.cc:738: \n",
      "Parameters: { \"use_label_encoder\" } are not used.\n",
      "\n",
      "  bst.update(dtrain, iteration=i, fobj=obj)\n"
     ]
    },
    {
     "name": "stdout",
     "output_type": "stream",
     "text": [
      "[CV] END colsample_bytree=0.6, learning_rate=0.1, max_depth=5, n_estimators=500, subsample=0.8; total time=  25.5s\n"
     ]
    },
    {
     "name": "stderr",
     "output_type": "stream",
     "text": [
      "/opt/conda/envs/fraud-detect/lib/python3.11/site-packages/xgboost/training.py:183: UserWarning: [20:01:18] WARNING: /workspace/src/learner.cc:738: \n",
      "Parameters: { \"use_label_encoder\" } are not used.\n",
      "\n",
      "  bst.update(dtrain, iteration=i, fobj=obj)\n"
     ]
    },
    {
     "name": "stdout",
     "output_type": "stream",
     "text": [
      "[CV] END colsample_bytree=0.6, learning_rate=0.1, max_depth=5, n_estimators=500, subsample=0.8; total time=  26.6s\n"
     ]
    },
    {
     "name": "stderr",
     "output_type": "stream",
     "text": [
      "/opt/conda/envs/fraud-detect/lib/python3.11/site-packages/xgboost/training.py:183: UserWarning: [20:01:45] WARNING: /workspace/src/learner.cc:738: \n",
      "Parameters: { \"use_label_encoder\" } are not used.\n",
      "\n",
      "  bst.update(dtrain, iteration=i, fobj=obj)\n"
     ]
    },
    {
     "name": "stdout",
     "output_type": "stream",
     "text": [
      "[CV] END colsample_bytree=0.8, learning_rate=0.2, max_depth=3, n_estimators=500, subsample=0.8; total time=  19.7s\n"
     ]
    },
    {
     "name": "stderr",
     "output_type": "stream",
     "text": [
      "/opt/conda/envs/fraud-detect/lib/python3.11/site-packages/xgboost/training.py:183: UserWarning: [20:02:05] WARNING: /workspace/src/learner.cc:738: \n",
      "Parameters: { \"use_label_encoder\" } are not used.\n",
      "\n",
      "  bst.update(dtrain, iteration=i, fobj=obj)\n"
     ]
    },
    {
     "name": "stdout",
     "output_type": "stream",
     "text": [
      "[CV] END colsample_bytree=0.8, learning_rate=0.2, max_depth=3, n_estimators=500, subsample=0.8; total time=  19.6s\n"
     ]
    },
    {
     "name": "stderr",
     "output_type": "stream",
     "text": [
      "/opt/conda/envs/fraud-detect/lib/python3.11/site-packages/xgboost/training.py:183: UserWarning: [20:02:24] WARNING: /workspace/src/learner.cc:738: \n",
      "Parameters: { \"use_label_encoder\" } are not used.\n",
      "\n",
      "  bst.update(dtrain, iteration=i, fobj=obj)\n"
     ]
    },
    {
     "name": "stdout",
     "output_type": "stream",
     "text": [
      "[CV] END colsample_bytree=0.8, learning_rate=0.2, max_depth=3, n_estimators=500, subsample=0.8; total time=  20.3s\n"
     ]
    },
    {
     "name": "stderr",
     "output_type": "stream",
     "text": [
      "/opt/conda/envs/fraud-detect/lib/python3.11/site-packages/xgboost/training.py:183: UserWarning: [20:02:44] WARNING: /workspace/src/learner.cc:738: \n",
      "Parameters: { \"use_label_encoder\" } are not used.\n",
      "\n",
      "  bst.update(dtrain, iteration=i, fobj=obj)\n"
     ]
    },
    {
     "name": "stdout",
     "output_type": "stream",
     "text": [
      "[CV] END colsample_bytree=1.0, learning_rate=0.1, max_depth=5, n_estimators=300, subsample=0.6; total time=  18.3s\n"
     ]
    },
    {
     "name": "stderr",
     "output_type": "stream",
     "text": [
      "/opt/conda/envs/fraud-detect/lib/python3.11/site-packages/xgboost/training.py:183: UserWarning: [20:03:03] WARNING: /workspace/src/learner.cc:738: \n",
      "Parameters: { \"use_label_encoder\" } are not used.\n",
      "\n",
      "  bst.update(dtrain, iteration=i, fobj=obj)\n"
     ]
    },
    {
     "name": "stdout",
     "output_type": "stream",
     "text": [
      "[CV] END colsample_bytree=1.0, learning_rate=0.1, max_depth=5, n_estimators=300, subsample=0.6; total time=  18.5s\n"
     ]
    },
    {
     "name": "stderr",
     "output_type": "stream",
     "text": [
      "/opt/conda/envs/fraud-detect/lib/python3.11/site-packages/xgboost/training.py:183: UserWarning: [20:03:21] WARNING: /workspace/src/learner.cc:738: \n",
      "Parameters: { \"use_label_encoder\" } are not used.\n",
      "\n",
      "  bst.update(dtrain, iteration=i, fobj=obj)\n"
     ]
    },
    {
     "name": "stdout",
     "output_type": "stream",
     "text": [
      "[CV] END colsample_bytree=1.0, learning_rate=0.1, max_depth=5, n_estimators=300, subsample=0.6; total time=  18.7s\n"
     ]
    },
    {
     "name": "stderr",
     "output_type": "stream",
     "text": [
      "/opt/conda/envs/fraud-detect/lib/python3.11/site-packages/xgboost/training.py:183: UserWarning: [20:03:40] WARNING: /workspace/src/learner.cc:738: \n",
      "Parameters: { \"use_label_encoder\" } are not used.\n",
      "\n",
      "  bst.update(dtrain, iteration=i, fobj=obj)\n"
     ]
    },
    {
     "name": "stdout",
     "output_type": "stream",
     "text": [
      "[CV] END colsample_bytree=1.0, learning_rate=0.01, max_depth=5, n_estimators=300, subsample=0.6; total time=  18.4s\n"
     ]
    },
    {
     "name": "stderr",
     "output_type": "stream",
     "text": [
      "/opt/conda/envs/fraud-detect/lib/python3.11/site-packages/xgboost/training.py:183: UserWarning: [20:03:59] WARNING: /workspace/src/learner.cc:738: \n",
      "Parameters: { \"use_label_encoder\" } are not used.\n",
      "\n",
      "  bst.update(dtrain, iteration=i, fobj=obj)\n"
     ]
    },
    {
     "name": "stdout",
     "output_type": "stream",
     "text": [
      "[CV] END colsample_bytree=1.0, learning_rate=0.01, max_depth=5, n_estimators=300, subsample=0.6; total time=  18.4s\n"
     ]
    },
    {
     "name": "stderr",
     "output_type": "stream",
     "text": [
      "/opt/conda/envs/fraud-detect/lib/python3.11/site-packages/xgboost/training.py:183: UserWarning: [20:04:17] WARNING: /workspace/src/learner.cc:738: \n",
      "Parameters: { \"use_label_encoder\" } are not used.\n",
      "\n",
      "  bst.update(dtrain, iteration=i, fobj=obj)\n"
     ]
    },
    {
     "name": "stdout",
     "output_type": "stream",
     "text": [
      "[CV] END colsample_bytree=1.0, learning_rate=0.01, max_depth=5, n_estimators=300, subsample=0.6; total time=  18.3s\n"
     ]
    },
    {
     "name": "stderr",
     "output_type": "stream",
     "text": [
      "/opt/conda/envs/fraud-detect/lib/python3.11/site-packages/xgboost/training.py:183: UserWarning: [20:04:35] WARNING: /workspace/src/learner.cc:738: \n",
      "Parameters: { \"use_label_encoder\" } are not used.\n",
      "\n",
      "  bst.update(dtrain, iteration=i, fobj=obj)\n"
     ]
    },
    {
     "name": "stdout",
     "output_type": "stream",
     "text": [
      "[CV] END colsample_bytree=1.0, learning_rate=0.01, max_depth=5, n_estimators=200, subsample=0.8; total time=  12.2s\n"
     ]
    },
    {
     "name": "stderr",
     "output_type": "stream",
     "text": [
      "/opt/conda/envs/fraud-detect/lib/python3.11/site-packages/xgboost/training.py:183: UserWarning: [20:04:48] WARNING: /workspace/src/learner.cc:738: \n",
      "Parameters: { \"use_label_encoder\" } are not used.\n",
      "\n",
      "  bst.update(dtrain, iteration=i, fobj=obj)\n"
     ]
    },
    {
     "name": "stdout",
     "output_type": "stream",
     "text": [
      "[CV] END colsample_bytree=1.0, learning_rate=0.01, max_depth=5, n_estimators=200, subsample=0.8; total time=  12.4s\n"
     ]
    },
    {
     "name": "stderr",
     "output_type": "stream",
     "text": [
      "/opt/conda/envs/fraud-detect/lib/python3.11/site-packages/xgboost/training.py:183: UserWarning: [20:05:00] WARNING: /workspace/src/learner.cc:738: \n",
      "Parameters: { \"use_label_encoder\" } are not used.\n",
      "\n",
      "  bst.update(dtrain, iteration=i, fobj=obj)\n"
     ]
    },
    {
     "name": "stdout",
     "output_type": "stream",
     "text": [
      "[CV] END colsample_bytree=1.0, learning_rate=0.01, max_depth=5, n_estimators=200, subsample=0.8; total time=  12.3s\n"
     ]
    },
    {
     "name": "stderr",
     "output_type": "stream",
     "text": [
      "/opt/conda/envs/fraud-detect/lib/python3.11/site-packages/xgboost/training.py:183: UserWarning: [20:05:12] WARNING: /workspace/src/learner.cc:738: \n",
      "Parameters: { \"use_label_encoder\" } are not used.\n",
      "\n",
      "  bst.update(dtrain, iteration=i, fobj=obj)\n"
     ]
    },
    {
     "name": "stdout",
     "output_type": "stream",
     "text": [
      "[CV] END colsample_bytree=0.8, learning_rate=0.05, max_depth=5, n_estimators=300, subsample=0.8; total time=  17.5s\n"
     ]
    },
    {
     "name": "stderr",
     "output_type": "stream",
     "text": [
      "/opt/conda/envs/fraud-detect/lib/python3.11/site-packages/xgboost/training.py:183: UserWarning: [20:05:30] WARNING: /workspace/src/learner.cc:738: \n",
      "Parameters: { \"use_label_encoder\" } are not used.\n",
      "\n",
      "  bst.update(dtrain, iteration=i, fobj=obj)\n"
     ]
    },
    {
     "name": "stdout",
     "output_type": "stream",
     "text": [
      "[CV] END colsample_bytree=0.8, learning_rate=0.05, max_depth=5, n_estimators=300, subsample=0.8; total time=  17.7s\n"
     ]
    },
    {
     "name": "stderr",
     "output_type": "stream",
     "text": [
      "/opt/conda/envs/fraud-detect/lib/python3.11/site-packages/xgboost/training.py:183: UserWarning: [20:05:47] WARNING: /workspace/src/learner.cc:738: \n",
      "Parameters: { \"use_label_encoder\" } are not used.\n",
      "\n",
      "  bst.update(dtrain, iteration=i, fobj=obj)\n"
     ]
    },
    {
     "name": "stdout",
     "output_type": "stream",
     "text": [
      "[CV] END colsample_bytree=0.8, learning_rate=0.05, max_depth=5, n_estimators=300, subsample=0.8; total time=  17.8s\n"
     ]
    },
    {
     "name": "stderr",
     "output_type": "stream",
     "text": [
      "/opt/conda/envs/fraud-detect/lib/python3.11/site-packages/xgboost/training.py:183: UserWarning: [20:06:05] WARNING: /workspace/src/learner.cc:738: \n",
      "Parameters: { \"use_label_encoder\" } are not used.\n",
      "\n",
      "  bst.update(dtrain, iteration=i, fobj=obj)\n"
     ]
    },
    {
     "name": "stdout",
     "output_type": "stream",
     "text": [
      "[CV] END colsample_bytree=0.6, learning_rate=0.01, max_depth=7, n_estimators=200, subsample=1.0; total time=  16.1s\n"
     ]
    },
    {
     "name": "stderr",
     "output_type": "stream",
     "text": [
      "/opt/conda/envs/fraud-detect/lib/python3.11/site-packages/xgboost/training.py:183: UserWarning: [20:06:21] WARNING: /workspace/src/learner.cc:738: \n",
      "Parameters: { \"use_label_encoder\" } are not used.\n",
      "\n",
      "  bst.update(dtrain, iteration=i, fobj=obj)\n"
     ]
    },
    {
     "name": "stdout",
     "output_type": "stream",
     "text": [
      "[CV] END colsample_bytree=0.6, learning_rate=0.01, max_depth=7, n_estimators=200, subsample=1.0; total time=  17.7s\n"
     ]
    },
    {
     "name": "stderr",
     "output_type": "stream",
     "text": [
      "/opt/conda/envs/fraud-detect/lib/python3.11/site-packages/xgboost/training.py:183: UserWarning: [20:06:39] WARNING: /workspace/src/learner.cc:738: \n",
      "Parameters: { \"use_label_encoder\" } are not used.\n",
      "\n",
      "  bst.update(dtrain, iteration=i, fobj=obj)\n"
     ]
    },
    {
     "name": "stdout",
     "output_type": "stream",
     "text": [
      "[CV] END colsample_bytree=0.6, learning_rate=0.01, max_depth=7, n_estimators=200, subsample=1.0; total time=  16.2s\n"
     ]
    },
    {
     "name": "stderr",
     "output_type": "stream",
     "text": [
      "/opt/conda/envs/fraud-detect/lib/python3.11/site-packages/xgboost/training.py:183: UserWarning: [20:06:55] WARNING: /workspace/src/learner.cc:738: \n",
      "Parameters: { \"use_label_encoder\" } are not used.\n",
      "\n",
      "  bst.update(dtrain, iteration=i, fobj=obj)\n"
     ]
    },
    {
     "name": "stdout",
     "output_type": "stream",
     "text": [
      "[CV] END colsample_bytree=0.6, learning_rate=0.05, max_depth=7, n_estimators=500, subsample=0.8; total time=  38.6s\n"
     ]
    },
    {
     "name": "stderr",
     "output_type": "stream",
     "text": [
      "/opt/conda/envs/fraud-detect/lib/python3.11/site-packages/xgboost/training.py:183: UserWarning: [20:07:34] WARNING: /workspace/src/learner.cc:738: \n",
      "Parameters: { \"use_label_encoder\" } are not used.\n",
      "\n",
      "  bst.update(dtrain, iteration=i, fobj=obj)\n"
     ]
    },
    {
     "name": "stdout",
     "output_type": "stream",
     "text": [
      "[CV] END colsample_bytree=0.6, learning_rate=0.05, max_depth=7, n_estimators=500, subsample=0.8; total time=  38.0s\n"
     ]
    },
    {
     "name": "stderr",
     "output_type": "stream",
     "text": [
      "/opt/conda/envs/fraud-detect/lib/python3.11/site-packages/xgboost/training.py:183: UserWarning: [20:08:12] WARNING: /workspace/src/learner.cc:738: \n",
      "Parameters: { \"use_label_encoder\" } are not used.\n",
      "\n",
      "  bst.update(dtrain, iteration=i, fobj=obj)\n"
     ]
    },
    {
     "name": "stdout",
     "output_type": "stream",
     "text": [
      "[CV] END colsample_bytree=0.6, learning_rate=0.05, max_depth=7, n_estimators=500, subsample=0.8; total time=  38.9s\n"
     ]
    },
    {
     "name": "stderr",
     "output_type": "stream",
     "text": [
      "/opt/conda/envs/fraud-detect/lib/python3.11/site-packages/xgboost/training.py:183: UserWarning: [20:08:51] WARNING: /workspace/src/learner.cc:738: \n",
      "Parameters: { \"use_label_encoder\" } are not used.\n",
      "\n",
      "  bst.update(dtrain, iteration=i, fobj=obj)\n"
     ]
    },
    {
     "name": "stdout",
     "output_type": "stream",
     "text": [
      "[CV] END colsample_bytree=0.8, learning_rate=0.2, max_depth=9, n_estimators=300, subsample=1.0; total time=  29.2s\n"
     ]
    },
    {
     "name": "stderr",
     "output_type": "stream",
     "text": [
      "/opt/conda/envs/fraud-detect/lib/python3.11/site-packages/xgboost/training.py:183: UserWarning: [20:09:20] WARNING: /workspace/src/learner.cc:738: \n",
      "Parameters: { \"use_label_encoder\" } are not used.\n",
      "\n",
      "  bst.update(dtrain, iteration=i, fobj=obj)\n"
     ]
    },
    {
     "name": "stdout",
     "output_type": "stream",
     "text": [
      "[CV] END colsample_bytree=0.8, learning_rate=0.2, max_depth=9, n_estimators=300, subsample=1.0; total time=  28.9s\n"
     ]
    },
    {
     "name": "stderr",
     "output_type": "stream",
     "text": [
      "/opt/conda/envs/fraud-detect/lib/python3.11/site-packages/xgboost/training.py:183: UserWarning: [20:09:49] WARNING: /workspace/src/learner.cc:738: \n",
      "Parameters: { \"use_label_encoder\" } are not used.\n",
      "\n",
      "  bst.update(dtrain, iteration=i, fobj=obj)\n"
     ]
    },
    {
     "name": "stdout",
     "output_type": "stream",
     "text": [
      "[CV] END colsample_bytree=0.8, learning_rate=0.2, max_depth=9, n_estimators=300, subsample=1.0; total time=  28.8s\n"
     ]
    },
    {
     "name": "stderr",
     "output_type": "stream",
     "text": [
      "/opt/conda/envs/fraud-detect/lib/python3.11/site-packages/xgboost/training.py:183: UserWarning: [20:10:17] WARNING: /workspace/src/learner.cc:738: \n",
      "Parameters: { \"use_label_encoder\" } are not used.\n",
      "\n",
      "  bst.update(dtrain, iteration=i, fobj=obj)\n"
     ]
    },
    {
     "name": "stdout",
     "output_type": "stream",
     "text": [
      "[CV] END colsample_bytree=1.0, learning_rate=0.05, max_depth=9, n_estimators=100, subsample=1.0; total time=  10.3s\n"
     ]
    },
    {
     "name": "stderr",
     "output_type": "stream",
     "text": [
      "/opt/conda/envs/fraud-detect/lib/python3.11/site-packages/xgboost/training.py:183: UserWarning: [20:10:28] WARNING: /workspace/src/learner.cc:738: \n",
      "Parameters: { \"use_label_encoder\" } are not used.\n",
      "\n",
      "  bst.update(dtrain, iteration=i, fobj=obj)\n"
     ]
    },
    {
     "name": "stdout",
     "output_type": "stream",
     "text": [
      "[CV] END colsample_bytree=1.0, learning_rate=0.05, max_depth=9, n_estimators=100, subsample=1.0; total time=  11.2s\n"
     ]
    },
    {
     "name": "stderr",
     "output_type": "stream",
     "text": [
      "/opt/conda/envs/fraud-detect/lib/python3.11/site-packages/xgboost/training.py:183: UserWarning: [20:10:39] WARNING: /workspace/src/learner.cc:738: \n",
      "Parameters: { \"use_label_encoder\" } are not used.\n",
      "\n",
      "  bst.update(dtrain, iteration=i, fobj=obj)\n"
     ]
    },
    {
     "name": "stdout",
     "output_type": "stream",
     "text": [
      "[CV] END colsample_bytree=1.0, learning_rate=0.05, max_depth=9, n_estimators=100, subsample=1.0; total time=  11.2s\n"
     ]
    },
    {
     "name": "stderr",
     "output_type": "stream",
     "text": [
      "/opt/conda/envs/fraud-detect/lib/python3.11/site-packages/xgboost/training.py:183: UserWarning: [20:10:50] WARNING: /workspace/src/learner.cc:738: \n",
      "Parameters: { \"use_label_encoder\" } are not used.\n",
      "\n",
      "  bst.update(dtrain, iteration=i, fobj=obj)\n"
     ]
    },
    {
     "name": "stdout",
     "output_type": "stream",
     "text": [
      "[CV] END colsample_bytree=1.0, learning_rate=0.05, max_depth=5, n_estimators=200, subsample=0.6; total time=  12.5s\n"
     ]
    },
    {
     "name": "stderr",
     "output_type": "stream",
     "text": [
      "/opt/conda/envs/fraud-detect/lib/python3.11/site-packages/xgboost/training.py:183: UserWarning: [20:11:03] WARNING: /workspace/src/learner.cc:738: \n",
      "Parameters: { \"use_label_encoder\" } are not used.\n",
      "\n",
      "  bst.update(dtrain, iteration=i, fobj=obj)\n"
     ]
    },
    {
     "name": "stdout",
     "output_type": "stream",
     "text": [
      "[CV] END colsample_bytree=1.0, learning_rate=0.05, max_depth=5, n_estimators=200, subsample=0.6; total time=  15.0s\n"
     ]
    },
    {
     "name": "stderr",
     "output_type": "stream",
     "text": [
      "/opt/conda/envs/fraud-detect/lib/python3.11/site-packages/xgboost/training.py:183: UserWarning: [20:11:17] WARNING: /workspace/src/learner.cc:738: \n",
      "Parameters: { \"use_label_encoder\" } are not used.\n",
      "\n",
      "  bst.update(dtrain, iteration=i, fobj=obj)\n"
     ]
    },
    {
     "name": "stdout",
     "output_type": "stream",
     "text": [
      "[CV] END colsample_bytree=1.0, learning_rate=0.05, max_depth=5, n_estimators=200, subsample=0.6; total time=  12.5s\n"
     ]
    },
    {
     "name": "stderr",
     "output_type": "stream",
     "text": [
      "/opt/conda/envs/fraud-detect/lib/python3.11/site-packages/xgboost/training.py:183: UserWarning: [20:11:30] WARNING: /workspace/src/learner.cc:738: \n",
      "Parameters: { \"use_label_encoder\" } are not used.\n",
      "\n",
      "  bst.update(dtrain, iteration=i, fobj=obj)\n"
     ]
    },
    {
     "name": "stdout",
     "output_type": "stream",
     "text": [
      "[CV] END colsample_bytree=0.8, learning_rate=0.05, max_depth=9, n_estimators=200, subsample=1.0; total time=  19.8s\n"
     ]
    },
    {
     "name": "stderr",
     "output_type": "stream",
     "text": [
      "/opt/conda/envs/fraud-detect/lib/python3.11/site-packages/xgboost/training.py:183: UserWarning: [20:11:50] WARNING: /workspace/src/learner.cc:738: \n",
      "Parameters: { \"use_label_encoder\" } are not used.\n",
      "\n",
      "  bst.update(dtrain, iteration=i, fobj=obj)\n"
     ]
    },
    {
     "name": "stdout",
     "output_type": "stream",
     "text": [
      "[CV] END colsample_bytree=0.8, learning_rate=0.05, max_depth=9, n_estimators=200, subsample=1.0; total time=  19.1s\n"
     ]
    },
    {
     "name": "stderr",
     "output_type": "stream",
     "text": [
      "/opt/conda/envs/fraud-detect/lib/python3.11/site-packages/xgboost/training.py:183: UserWarning: [20:12:09] WARNING: /workspace/src/learner.cc:738: \n",
      "Parameters: { \"use_label_encoder\" } are not used.\n",
      "\n",
      "  bst.update(dtrain, iteration=i, fobj=obj)\n"
     ]
    },
    {
     "name": "stdout",
     "output_type": "stream",
     "text": [
      "[CV] END colsample_bytree=0.8, learning_rate=0.05, max_depth=9, n_estimators=200, subsample=1.0; total time=  19.9s\n"
     ]
    },
    {
     "name": "stderr",
     "output_type": "stream",
     "text": [
      "/opt/conda/envs/fraud-detect/lib/python3.11/site-packages/xgboost/training.py:183: UserWarning: [20:12:29] WARNING: /workspace/src/learner.cc:738: \n",
      "Parameters: { \"use_label_encoder\" } are not used.\n",
      "\n",
      "  bst.update(dtrain, iteration=i, fobj=obj)\n"
     ]
    },
    {
     "name": "stdout",
     "output_type": "stream",
     "text": [
      "[CV] END colsample_bytree=0.8, learning_rate=0.2, max_depth=5, n_estimators=300, subsample=1.0; total time=  15.9s\n"
     ]
    },
    {
     "name": "stderr",
     "output_type": "stream",
     "text": [
      "/opt/conda/envs/fraud-detect/lib/python3.11/site-packages/xgboost/training.py:183: UserWarning: [20:12:45] WARNING: /workspace/src/learner.cc:738: \n",
      "Parameters: { \"use_label_encoder\" } are not used.\n",
      "\n",
      "  bst.update(dtrain, iteration=i, fobj=obj)\n"
     ]
    },
    {
     "name": "stdout",
     "output_type": "stream",
     "text": [
      "[CV] END colsample_bytree=0.8, learning_rate=0.2, max_depth=5, n_estimators=300, subsample=1.0; total time=  15.9s\n"
     ]
    },
    {
     "name": "stderr",
     "output_type": "stream",
     "text": [
      "/opt/conda/envs/fraud-detect/lib/python3.11/site-packages/xgboost/training.py:183: UserWarning: [20:13:01] WARNING: /workspace/src/learner.cc:738: \n",
      "Parameters: { \"use_label_encoder\" } are not used.\n",
      "\n",
      "  bst.update(dtrain, iteration=i, fobj=obj)\n"
     ]
    },
    {
     "name": "stdout",
     "output_type": "stream",
     "text": [
      "[CV] END colsample_bytree=0.8, learning_rate=0.2, max_depth=5, n_estimators=300, subsample=1.0; total time=  16.7s\n"
     ]
    },
    {
     "name": "stderr",
     "output_type": "stream",
     "text": [
      "/opt/conda/envs/fraud-detect/lib/python3.11/site-packages/xgboost/training.py:183: UserWarning: [20:13:18] WARNING: /workspace/src/learner.cc:738: \n",
      "Parameters: { \"use_label_encoder\" } are not used.\n",
      "\n",
      "  bst.update(dtrain, iteration=i, fobj=obj)\n"
     ]
    },
    {
     "name": "stdout",
     "output_type": "stream",
     "text": [
      "[CV] END colsample_bytree=1.0, learning_rate=0.2, max_depth=3, n_estimators=300, subsample=0.6; total time=  13.8s\n"
     ]
    },
    {
     "name": "stderr",
     "output_type": "stream",
     "text": [
      "/opt/conda/envs/fraud-detect/lib/python3.11/site-packages/xgboost/training.py:183: UserWarning: [20:13:31] WARNING: /workspace/src/learner.cc:738: \n",
      "Parameters: { \"use_label_encoder\" } are not used.\n",
      "\n",
      "  bst.update(dtrain, iteration=i, fobj=obj)\n"
     ]
    },
    {
     "name": "stdout",
     "output_type": "stream",
     "text": [
      "[CV] END colsample_bytree=1.0, learning_rate=0.2, max_depth=3, n_estimators=300, subsample=0.6; total time=  13.3s\n"
     ]
    },
    {
     "name": "stderr",
     "output_type": "stream",
     "text": [
      "/opt/conda/envs/fraud-detect/lib/python3.11/site-packages/xgboost/training.py:183: UserWarning: [20:13:44] WARNING: /workspace/src/learner.cc:738: \n",
      "Parameters: { \"use_label_encoder\" } are not used.\n",
      "\n",
      "  bst.update(dtrain, iteration=i, fobj=obj)\n"
     ]
    },
    {
     "name": "stdout",
     "output_type": "stream",
     "text": [
      "[CV] END colsample_bytree=1.0, learning_rate=0.2, max_depth=3, n_estimators=300, subsample=0.6; total time=  13.5s\n"
     ]
    },
    {
     "name": "stderr",
     "output_type": "stream",
     "text": [
      "/opt/conda/envs/fraud-detect/lib/python3.11/site-packages/xgboost/training.py:183: UserWarning: [20:13:58] WARNING: /workspace/src/learner.cc:738: \n",
      "Parameters: { \"use_label_encoder\" } are not used.\n",
      "\n",
      "  bst.update(dtrain, iteration=i, fobj=obj)\n"
     ]
    },
    {
     "name": "stdout",
     "output_type": "stream",
     "text": [
      "[CV] END colsample_bytree=0.6, learning_rate=0.2, max_depth=5, n_estimators=500, subsample=1.0; total time=  25.5s\n"
     ]
    },
    {
     "name": "stderr",
     "output_type": "stream",
     "text": [
      "/opt/conda/envs/fraud-detect/lib/python3.11/site-packages/xgboost/training.py:183: UserWarning: [20:14:23] WARNING: /workspace/src/learner.cc:738: \n",
      "Parameters: { \"use_label_encoder\" } are not used.\n",
      "\n",
      "  bst.update(dtrain, iteration=i, fobj=obj)\n"
     ]
    },
    {
     "name": "stdout",
     "output_type": "stream",
     "text": [
      "[CV] END colsample_bytree=0.6, learning_rate=0.2, max_depth=5, n_estimators=500, subsample=1.0; total time=  25.3s\n"
     ]
    },
    {
     "name": "stderr",
     "output_type": "stream",
     "text": [
      "/opt/conda/envs/fraud-detect/lib/python3.11/site-packages/xgboost/training.py:183: UserWarning: [20:14:49] WARNING: /workspace/src/learner.cc:738: \n",
      "Parameters: { \"use_label_encoder\" } are not used.\n",
      "\n",
      "  bst.update(dtrain, iteration=i, fobj=obj)\n"
     ]
    },
    {
     "name": "stdout",
     "output_type": "stream",
     "text": [
      "[CV] END colsample_bytree=0.6, learning_rate=0.2, max_depth=5, n_estimators=500, subsample=1.0; total time=  26.2s\n"
     ]
    },
    {
     "name": "stderr",
     "output_type": "stream",
     "text": [
      "/opt/conda/envs/fraud-detect/lib/python3.11/site-packages/xgboost/training.py:183: UserWarning: [20:15:15] WARNING: /workspace/src/learner.cc:738: \n",
      "Parameters: { \"use_label_encoder\" } are not used.\n",
      "\n",
      "  bst.update(dtrain, iteration=i, fobj=obj)\n"
     ]
    },
    {
     "name": "stdout",
     "output_type": "stream",
     "text": [
      "[CV] END colsample_bytree=0.8, learning_rate=0.05, max_depth=7, n_estimators=100, subsample=0.8; total time=   9.0s\n"
     ]
    },
    {
     "name": "stderr",
     "output_type": "stream",
     "text": [
      "/opt/conda/envs/fraud-detect/lib/python3.11/site-packages/xgboost/training.py:183: UserWarning: [20:15:24] WARNING: /workspace/src/learner.cc:738: \n",
      "Parameters: { \"use_label_encoder\" } are not used.\n",
      "\n",
      "  bst.update(dtrain, iteration=i, fobj=obj)\n"
     ]
    },
    {
     "name": "stdout",
     "output_type": "stream",
     "text": [
      "[CV] END colsample_bytree=0.8, learning_rate=0.05, max_depth=7, n_estimators=100, subsample=0.8; total time=   8.8s\n"
     ]
    },
    {
     "name": "stderr",
     "output_type": "stream",
     "text": [
      "/opt/conda/envs/fraud-detect/lib/python3.11/site-packages/xgboost/training.py:183: UserWarning: [20:15:33] WARNING: /workspace/src/learner.cc:738: \n",
      "Parameters: { \"use_label_encoder\" } are not used.\n",
      "\n",
      "  bst.update(dtrain, iteration=i, fobj=obj)\n"
     ]
    },
    {
     "name": "stdout",
     "output_type": "stream",
     "text": [
      "[CV] END colsample_bytree=0.8, learning_rate=0.05, max_depth=7, n_estimators=100, subsample=0.8; total time=   8.9s\n"
     ]
    },
    {
     "name": "stderr",
     "output_type": "stream",
     "text": [
      "/opt/conda/envs/fraud-detect/lib/python3.11/site-packages/xgboost/training.py:183: UserWarning: [20:15:42] WARNING: /workspace/src/learner.cc:738: \n",
      "Parameters: { \"use_label_encoder\" } are not used.\n",
      "\n",
      "  bst.update(dtrain, iteration=i, fobj=obj)\n"
     ]
    },
    {
     "name": "stdout",
     "output_type": "stream",
     "text": [
      "[CV] END colsample_bytree=0.6, learning_rate=0.05, max_depth=3, n_estimators=300, subsample=0.8; total time=  12.9s\n"
     ]
    },
    {
     "name": "stderr",
     "output_type": "stream",
     "text": [
      "/opt/conda/envs/fraud-detect/lib/python3.11/site-packages/xgboost/training.py:183: UserWarning: [20:15:55] WARNING: /workspace/src/learner.cc:738: \n",
      "Parameters: { \"use_label_encoder\" } are not used.\n",
      "\n",
      "  bst.update(dtrain, iteration=i, fobj=obj)\n"
     ]
    },
    {
     "name": "stdout",
     "output_type": "stream",
     "text": [
      "[CV] END colsample_bytree=0.6, learning_rate=0.05, max_depth=3, n_estimators=300, subsample=0.8; total time=  13.2s\n"
     ]
    },
    {
     "name": "stderr",
     "output_type": "stream",
     "text": [
      "/opt/conda/envs/fraud-detect/lib/python3.11/site-packages/xgboost/training.py:183: UserWarning: [20:16:08] WARNING: /workspace/src/learner.cc:738: \n",
      "Parameters: { \"use_label_encoder\" } are not used.\n",
      "\n",
      "  bst.update(dtrain, iteration=i, fobj=obj)\n"
     ]
    },
    {
     "name": "stdout",
     "output_type": "stream",
     "text": [
      "[CV] END colsample_bytree=0.6, learning_rate=0.05, max_depth=3, n_estimators=300, subsample=0.8; total time=  13.2s\n"
     ]
    },
    {
     "name": "stderr",
     "output_type": "stream",
     "text": [
      "/opt/conda/envs/fraud-detect/lib/python3.11/site-packages/xgboost/training.py:183: UserWarning: [20:16:21] WARNING: /workspace/src/learner.cc:738: \n",
      "Parameters: { \"use_label_encoder\" } are not used.\n",
      "\n",
      "  bst.update(dtrain, iteration=i, fobj=obj)\n"
     ]
    },
    {
     "name": "stdout",
     "output_type": "stream",
     "text": [
      "[CV] END colsample_bytree=1.0, learning_rate=0.1, max_depth=9, n_estimators=300, subsample=1.0; total time=  28.5s\n"
     ]
    },
    {
     "name": "stderr",
     "output_type": "stream",
     "text": [
      "/opt/conda/envs/fraud-detect/lib/python3.11/site-packages/xgboost/training.py:183: UserWarning: [20:16:49] WARNING: /workspace/src/learner.cc:738: \n",
      "Parameters: { \"use_label_encoder\" } are not used.\n",
      "\n",
      "  bst.update(dtrain, iteration=i, fobj=obj)\n"
     ]
    },
    {
     "name": "stdout",
     "output_type": "stream",
     "text": [
      "[CV] END colsample_bytree=1.0, learning_rate=0.1, max_depth=9, n_estimators=300, subsample=1.0; total time=  28.2s\n"
     ]
    },
    {
     "name": "stderr",
     "output_type": "stream",
     "text": [
      "/opt/conda/envs/fraud-detect/lib/python3.11/site-packages/xgboost/training.py:183: UserWarning: [20:17:18] WARNING: /workspace/src/learner.cc:738: \n",
      "Parameters: { \"use_label_encoder\" } are not used.\n",
      "\n",
      "  bst.update(dtrain, iteration=i, fobj=obj)\n"
     ]
    },
    {
     "name": "stdout",
     "output_type": "stream",
     "text": [
      "[CV] END colsample_bytree=1.0, learning_rate=0.1, max_depth=9, n_estimators=300, subsample=1.0; total time=  29.2s\n"
     ]
    },
    {
     "name": "stderr",
     "output_type": "stream",
     "text": [
      "/opt/conda/envs/fraud-detect/lib/python3.11/site-packages/xgboost/training.py:183: UserWarning: [20:17:47] WARNING: /workspace/src/learner.cc:738: \n",
      "Parameters: { \"use_label_encoder\" } are not used.\n",
      "\n",
      "  bst.update(dtrain, iteration=i, fobj=obj)\n"
     ]
    },
    {
     "name": "stdout",
     "output_type": "stream",
     "text": [
      "[CV] END colsample_bytree=0.6, learning_rate=0.2, max_depth=3, n_estimators=500, subsample=0.6; total time=  21.6s\n"
     ]
    },
    {
     "name": "stderr",
     "output_type": "stream",
     "text": [
      "/opt/conda/envs/fraud-detect/lib/python3.11/site-packages/xgboost/training.py:183: UserWarning: [20:18:08] WARNING: /workspace/src/learner.cc:738: \n",
      "Parameters: { \"use_label_encoder\" } are not used.\n",
      "\n",
      "  bst.update(dtrain, iteration=i, fobj=obj)\n"
     ]
    },
    {
     "name": "stdout",
     "output_type": "stream",
     "text": [
      "[CV] END colsample_bytree=0.6, learning_rate=0.2, max_depth=3, n_estimators=500, subsample=0.6; total time=  21.4s\n"
     ]
    },
    {
     "name": "stderr",
     "output_type": "stream",
     "text": [
      "/opt/conda/envs/fraud-detect/lib/python3.11/site-packages/xgboost/training.py:183: UserWarning: [20:18:30] WARNING: /workspace/src/learner.cc:738: \n",
      "Parameters: { \"use_label_encoder\" } are not used.\n",
      "\n",
      "  bst.update(dtrain, iteration=i, fobj=obj)\n"
     ]
    },
    {
     "name": "stdout",
     "output_type": "stream",
     "text": [
      "[CV] END colsample_bytree=0.6, learning_rate=0.2, max_depth=3, n_estimators=500, subsample=0.6; total time=  21.1s\n"
     ]
    },
    {
     "name": "stderr",
     "output_type": "stream",
     "text": [
      "/opt/conda/envs/fraud-detect/lib/python3.11/site-packages/xgboost/training.py:183: UserWarning: [20:18:52] WARNING: /workspace/src/learner.cc:738: \n",
      "Parameters: { \"use_label_encoder\" } are not used.\n",
      "\n",
      "  bst.update(dtrain, iteration=i, fobj=obj)\n"
     ]
    },
    {
     "name": "stdout",
     "output_type": "stream",
     "text": [
      "Best parameters from RandomizedSearchCV: {'subsample': 1.0, 'n_estimators': 300, 'max_depth': 9, 'learning_rate': 0.2, 'colsample_bytree': 0.8}\n",
      "[[552933    641]\n",
      " [   664   1481]]\n",
      "              precision    recall  f1-score   support\n",
      "\n",
      "           0       1.00      1.00      1.00    553574\n",
      "           1       0.70      0.69      0.69      2145\n",
      "\n",
      "    accuracy                           1.00    555719\n",
      "   macro avg       0.85      0.84      0.85    555719\n",
      "weighted avg       1.00      1.00      1.00    555719\n",
      "\n"
     ]
    }
   ],
   "source": [
    "from sklearn.model_selection import RandomizedSearchCV\n",
    "from xgboost import XGBClassifier\n",
    "from sklearn.metrics import classification_report, confusion_matrix\n",
    "\n",
    "# Define the base model\n",
    "base_model = XGBClassifier(\n",
    "    objective='binary:logistic',\n",
    "    use_label_encoder=False,\n",
    "    eval_metric='logloss',\n",
    "    scale_pos_weight=(y_train == 0).sum() / (y_train == 1).sum(),\n",
    "    random_state=42,\n",
    "    n_jobs=-1\n",
    ")\n",
    "\n",
    "# Define the parameter distribution for RandomizedSearchCV\n",
    "param_dist = {\n",
    "    'n_estimators': [100, 200, 300, 500],\n",
    "    'max_depth': [3, 5, 7, 9],\n",
    "    'learning_rate': [0.01, 0.05, 0.1, 0.2],\n",
    "    'subsample': [0.6, 0.8, 1.0],\n",
    "    'colsample_bytree': [0.6, 0.8, 1.0]\n",
    "}\n",
    "\n",
    "# Set up RandomizedSearchCV\n",
    "random_search = RandomizedSearchCV(\n",
    "    estimator=base_model,\n",
    "    param_distributions=param_dist,\n",
    "    n_iter=20,  # Number of random combinations to try\n",
    "    scoring='f1',  # Metric to optimize\n",
    "    cv=3,  # 3-fold cross-validation\n",
    "    verbose=2,\n",
    "    random_state=42\n",
    ")\n",
    "\n",
    "# Run the random search\n",
    "random_search.fit(X_train, y_train)\n",
    "\n",
    "# Get the best model and its parameters\n",
    "best_random_model = random_search.best_estimator_\n",
    "print(\"Best parameters from RandomizedSearchCV:\", random_search.best_params_)\n",
    "\n",
    "# Evaluate the model\n",
    "y_pred_random = best_random_model.predict(X_test)\n",
    "print(confusion_matrix(y_test, y_pred_random))\n",
    "print(classification_report(y_test, y_pred_random))"
   ]
  },
  {
   "cell_type": "markdown",
   "id": "b3607f1e",
   "metadata": {},
   "source": [
    "### **Best Parameters from RandomizedSearchCV**\n",
    "From the RandomizedSearch we obtained the following best parameters:\n",
    "```python\n",
    "{'subsample': 1.0, 'n_estimators': 300, 'max_depth': 9, 'learning_rate': 0.2, 'colsample_bytree': 0.8}\n",
    "Confusion Matrix\n",
    "Classification Report\n",
    "Class\tPrecision\tRecall\tF1-Score\tSupport\n",
    "0\t1.00\t1.00\t1.00\t553574\n",
    "1\t0.71\t0.68\t0.69\t2145\n",
    "Accuracy: 1.00\n",
    "Macro Avg: Precision = 0.85, Recall = 0.84, F1-Score = 0.85\n",
    "Weighted Avg: Precision = 1.00, Recall = 1.00, F1-Score = 1.00 ```"
   ]
  },
  {
   "cell_type": "markdown",
   "id": "1f7ef73b",
   "metadata": {},
   "source": [
    "### **Light Version of the Grid Search**\n",
    "We first run on Google Colab the a light version of GridSearch using the following:\n",
    "```python\n",
    "param_grid = {\n",
    "    'n_estimators': [275, 300],  # 2 values\n",
    "    'max_depth': [8, 9],         # 2 values\n",
    "    'learning_rate': [0.2],      # 1 value\n",
    "    'subsample': [1.0],          # 1 value\n",
    "    'colsample_bytree': [0.8, 0.85]  # 2 values\n",
    "}"
   ]
  },
  {
   "cell_type": "markdown",
   "id": "6478e311",
   "metadata": {},
   "source": [
    "From this version we got the following (confirming what we found with the RandomSearch):"
   ]
  },
  {
   "cell_type": "markdown",
   "id": "9c70b912",
   "metadata": {},
   "source": [
    "### **Best Parameters from Light GridSearchCV**\n",
    "```python\n",
    "{'colsample_bytree': 0.8, 'learning_rate': 0.2, 'max_depth': 9, 'n_estimators': 300, 'subsample': 1.0}\n",
    "Confusion Matrix\n",
    "[[552933    641]\n",
    " [   664   1481]]\n",
    "\n",
    " Classification Report\n",
    "Class\tPrecision\tRecall\tF1-Score\tSupport\n",
    "0\t1.00\t1.00\t1.00\t553574\n",
    "1\t0.70\t0.69\t0.69\t2145\n",
    "Accuracy: 1.00\n",
    "Macro Avg: Precision = 0.85, Recall = 0.84, F1-Score = 0.85\n",
    "Weighted Avg: Precision = 1.00, Recall = 1.00, F1-Score = 1.00 ```"
   ]
  },
  {
   "cell_type": "code",
   "execution_count": null,
   "id": "ef78222b",
   "metadata": {},
   "outputs": [],
   "source": [
    "# Hyperparameter tuning using GridSearchCV\n",
    "from sklearn.model_selection import GridSearchCV\n",
    "\n",
    "# Define the base model with scale_pos_weight already set\n",
    "base_model = XGBClassifier(\n",
    "    objective='binary:logistic',\n",
    "    use_label_encoder=False,\n",
    "    eval_metric='logloss',\n",
    "    scale_pos_weight=(y_train == 0).sum() / (y_train == 1).sum(),\n",
    "    random_state=42,\n",
    "    n_jobs=-1\n",
    ")\n",
    "\n",
    "\n",
    "# Define the parameter grid to search\n",
    "param_grid = {\n",
    "    'n_estimators': [250, 300, 350],  # Around 300\n",
    "    'max_depth': [8, 9, 10],          # Around 9\n",
    "    'learning_rate': [0.15, 0.2, 0.25],  # Around 0.2\n",
    "    'subsample': [0.9, 1.0],          # Around 1.0\n",
    "    'colsample_bytree': [0.75, 0.8, 0.85]  # Around 0.8\n",
    "}\n",
    "\n",
    "# Set up GridSearchCV\n",
    "grid_search = GridSearchCV(\n",
    "    estimator=base_model,\n",
    "    param_grid=param_grid,\n",
    "    scoring='f1',  # Optimize for F1-score\n",
    "    cv=3,          # 3-fold cross-validation\n",
    "    verbose=2\n",
    ")\n",
    "\n",
    "# Run the grid search\n",
    "grid_search.fit(X_train, y_train)\n",
    "\n",
    "# Get the best model and its parameters\n",
    "best_grid_model = grid_search.best_estimator_\n",
    "print(\"Best parameters from GridSearchCV:\", grid_search.best_params_)\n",
    "\n",
    "# Evaluate the model\n",
    "y_pred_grid = best_grid_model.predict(X_test)\n",
    "print(confusion_matrix(y_test, y_pred_grid))\n",
    "print(classification_report(y_test, y_pred_grid))"
   ]
  },
  {
   "cell_type": "markdown",
   "id": "23621b6b",
   "metadata": {},
   "source": [
    "Running the previous cell in Google Colab (to get more computing power), we got the following results:"
   ]
  },
  {
   "cell_type": "markdown",
   "id": "81df7bae",
   "metadata": {},
   "source": [
    "### Results from Heavy GridSearch Run on Colab\n",
    "\n",
    "#### Best Parameters from GridSearchCV\n",
    "```python\n",
    "{'colsample_bytree': 0.8, 'learning_rate': 0.15, 'max_depth': 10, 'n_estimators': 350, 'subsample': 1.0}\n",
    "Confusion Matrix\n",
    "[[552977    597]\n",
    " [   654   1491]]\n",
    " Classification Report\n",
    "Class\tPrecision\tRecall\tF1-Score\tSupport\n",
    "0\t1.00\t1.00\t1.00\t553574\n",
    "1\t0.71\t0.70\t0.70\t2145\n",
    "Accuracy: 1.00\n",
    "Macro Avg: Precision = 0.86, Recall = 0.85, F1-Score = 0.85\n",
    "Weighted Avg: Precision = 1.00, Recall = 1.00, F1-Score = 1.00 ```\n",
    "\n"
   ]
  },
  {
   "cell_type": "markdown",
   "id": "9df2571a",
   "metadata": {},
   "source": [
    "## Step 5: Training the model"
   ]
  },
  {
   "cell_type": "code",
   "execution_count": 6,
   "id": "af52ed3e",
   "metadata": {},
   "outputs": [
    {
     "name": "stderr",
     "output_type": "stream",
     "text": [
      "/opt/conda/envs/fraud-detect/lib/python3.11/site-packages/xgboost/training.py:183: UserWarning: [14:33:46] WARNING: /workspace/src/learner.cc:738: \n",
      "Parameters: { \"use_label_encoder\" } are not used.\n",
      "\n",
      "  bst.update(dtrain, iteration=i, fobj=obj)\n"
     ]
    },
    {
     "name": "stdout",
     "output_type": "stream",
     "text": [
      "[[552977    597]\n",
      " [   654   1491]]\n",
      "              precision    recall  f1-score   support\n",
      "\n",
      "           0       1.00      1.00      1.00    553574\n",
      "           1       0.71      0.70      0.70      2145\n",
      "\n",
      "    accuracy                           1.00    555719\n",
      "   macro avg       0.86      0.85      0.85    555719\n",
      "weighted avg       1.00      1.00      1.00    555719\n",
      "\n"
     ]
    }
   ],
   "source": [
    "# Train the final model with the best parameters\n",
    "final_model = XGBClassifier(\n",
    "    colsample_bytree=0.8,\n",
    "    learning_rate=0.15,\n",
    "    max_depth=10,\n",
    "    n_estimators=350,\n",
    "    subsample=1.0,\n",
    "    objective='binary:logistic',\n",
    "    use_label_encoder=False,\n",
    "    eval_metric='logloss',\n",
    "    scale_pos_weight=(y_train == 0).sum() / (y_train == 1).sum(),\n",
    "    random_state=42\n",
    ")\n",
    "\n",
    "# Fit the model on the training data\n",
    "final_model.fit(X_train, y_train)\n",
    "\n",
    "# Evaluate on the test set\n",
    "y_pred_final = final_model.predict(X_test)\n",
    "print(confusion_matrix(y_test, y_pred_final))\n",
    "print(classification_report(y_test, y_pred_final))"
   ]
  },
  {
   "cell_type": "markdown",
   "id": "2e29f576",
   "metadata": {},
   "source": [
    "## Step 6: Model Interpretation with SHAP"
   ]
  },
  {
   "cell_type": "markdown",
   "id": "f46e7b24",
   "metadata": {},
   "source": [
    "We already run the following two cells, hence we saved our shap_values and we can just load them back directly without computing them again. In case that does not work, decomment the following two cells and run them."
   ]
  },
  {
   "cell_type": "code",
   "execution_count": null,
   "id": "e18a2f21",
   "metadata": {},
   "outputs": [
    {
     "name": "stderr",
     "output_type": "stream",
     "text": [
      "100%|===================| 555705/555719 [271:25<00:00]         "
     ]
    }
   ],
   "source": [
    "# import shap\n",
    "\n",
    "# # Create a SHAP explainer\n",
    "# explainer = shap.Explainer(final_model, X_train)\n",
    "\n",
    "# # Compute SHAP values for the test set\n",
    "# shap_values = explainer(X_test)\n",
    "\n"
   ]
  },
  {
   "cell_type": "code",
   "execution_count": null,
   "id": "0173bd83",
   "metadata": {},
   "outputs": [],
   "source": [
    "# import pickle\n",
    "\n",
    "# # Save SHAP values\n",
    "# with open(\"shap_values.pkl\", \"wb\") as f:\n",
    "#     pickle.dump(shap_values, f)\n",
    "\n",
    "# # Optionally, also save the explainer\n",
    "# with open(\"shap_explainer.pkl\", \"wb\") as f:\n",
    "#     pickle.dump(explainer, f)"
   ]
  },
  {
   "cell_type": "code",
   "execution_count": 6,
   "id": "8b91f382",
   "metadata": {},
   "outputs": [
    {
     "name": "stderr",
     "output_type": "stream",
     "text": [
      "IProgress not found. Please update jupyter and ipywidgets. See https://ipywidgets.readthedocs.io/en/stable/user_install.html\n"
     ]
    }
   ],
   "source": [
    "import pickle\n",
    "import shap\n",
    "# Load SHAP values\n",
    "with open(\"shap_values.pkl\", \"rb\") as f:\n",
    "    shap_values = pickle.load(f)\n",
    "\n",
    "# Load explainer if needed\n",
    "with open(\"shap_explainer.pkl\", \"rb\") as f:\n",
    "    explainer = pickle.load(f)\n"
   ]
  },
  {
   "cell_type": "code",
   "execution_count": 8,
   "id": "9ca2b292",
   "metadata": {},
   "outputs": [
    {
     "data": {
      "image/png": "[encoded data removed]",
      "text/plain": [
       "<Figure size 800x710 with 2 Axes>"
      ]
     },
     "metadata": {},
     "output_type": "display_data"
    },
    {
     "data": {
      "text/plain": [
       "<Figure size 640x480 with 0 Axes>"
      ]
     },
     "metadata": {},
     "output_type": "display_data"
    }
   ],
   "source": [
    "import matplotlib.pyplot as plt\n",
    "\n",
    "# Visualize feature importance\n",
    "shap.summary_plot(shap_values, X_test)\n",
    "plt.savefig(\"shap_summary_plot.png\", dpi=300, bbox_inches='tight')"
   ]
  },
  {
   "cell_type": "code",
   "execution_count": 9,
   "id": "404f6212",
   "metadata": {},
   "outputs": [
    {
     "data": {
      "image/png": "[encoded data removed]",
      "text/plain": [
       "<Figure size 800x550 with 2 Axes>"
      ]
     },
     "metadata": {},
     "output_type": "display_data"
    },
    {
     "data": {
      "text/plain": [
       "<Figure size 640x480 with 0 Axes>"
      ]
     },
     "metadata": {},
     "output_type": "display_data"
    }
   ],
   "source": [
    "# Visualize feature importance with beeswarm plot\n",
    "explainer = shap.Explainer(model)\n",
    "shap_values = explainer(X_test[:100])\n",
    "shap.plots.beeswarm(shap_values)\n",
    "\n",
    "plt.savefig(\"shap_beeswarm_plot.png\", dpi=300, bbox_inches='tight')"
   ]
  },
  {
   "cell_type": "markdown",
   "id": "42005472",
   "metadata": {},
   "source": [
    "## Step 7: features refinement based on SHAP"
   ]
  },
  {
   "cell_type": "code",
   "execution_count": 7,
   "id": "d2d6ed96",
   "metadata": {},
   "outputs": [],
   "source": [
    "import numpy as np\n",
    "\n",
    "\n",
    "# 1a. Log-transform to tame skew and extreme values\n",
    "for df in (X_train, X_test):\n",
    "    df['amt_log'] = np.log1p(df['amt'])\n",
    "\n",
    "# 1b. Optional: bin into categories\n",
    "amt_bins = [0, 50, 500, 5_000, 50_000, np.inf]\n",
    "amt_labels = ['Very Low','Low','Medium','High','Very High']\n",
    "for df in (X_train, X_test):\n",
    "    df['amt_bin'] = pd.cut(df['amt'], bins=amt_bins, labels=amt_labels)"
   ]
  },
  {
   "cell_type": "code",
   "execution_count": 8,
   "id": "22f18f45",
   "metadata": {},
   "outputs": [
    {
     "name": "stderr",
     "output_type": "stream",
     "text": [
      "/tmp/ipykernel_3186/2351766358.py:10: FutureWarning: A value is trying to be set on a copy of a DataFrame or Series through chained assignment using an inplace method.\n",
      "The behavior will change in pandas 3.0. This inplace method will never work because the intermediate object on which we are setting values always behaves as a copy.\n",
      "\n",
      "For example, when doing 'df[col].method(value, inplace=True)', try using 'df.method({col: value}, inplace=True)' or df[col] = df[col].method(value) instead, to perform the operation inplace on the original object.\n",
      "\n",
      "\n",
      "  X_test['category_te'].fillna(global_rate, inplace=True)\n"
     ]
    }
   ],
   "source": [
    "# Compute fraud rate per raw category on training set\n",
    "cat_rates = X_train.join(y_train).groupby('category')['is_fraud'].mean()\n",
    "\n",
    "# Map into both train & test\n",
    "X_train['category_te'] = X_train['category'].map(cat_rates)\n",
    "X_test['category_te']  = X_test['category'].map(cat_rates)\n",
    "\n",
    "# (Optional) If some test categories weren’t seen in train, fill with global mean\n",
    "global_rate = y_train.mean()\n",
    "X_test['category_te'].fillna(global_rate, inplace=True)"
   ]
  },
  {
   "cell_type": "code",
   "execution_count": 9,
   "id": "fade486c",
   "metadata": {},
   "outputs": [],
   "source": [
    "# 3a. Cyclical encoding\n",
    "for df in (X_train, X_test):\n",
    "    df['hour_sin'] = np.sin(2 * np.pi * df['hour'] / 24)\n",
    "    df['hour_cos'] = np.cos(2 * np.pi * df['hour'] / 24)\n",
    "\n",
    "# 3b. Night-time flag (e.g. higher fraud off-hours)\n",
    "for df in (X_train, X_test):\n",
    "    df['is_night'] = ((df['hour'] >= 22) | (df['hour'] < 6)).astype(int)"
   ]
  },
  {
   "cell_type": "code",
   "execution_count": 10,
   "id": "a8523478",
   "metadata": {},
   "outputs": [],
   "source": [
    "# 4a. Log-transform\n",
    "for df in (X_train, X_test):\n",
    "    df['city_pop_log'] = np.log1p(df['city_pop'])\n",
    "\n",
    "# 4b. Population size buckets\n",
    "pop_bins = [0, 10_000, 100_000, 1_000_000, np.inf]\n",
    "pop_labels = ['Small','Medium','Large','Metro']\n",
    "for df in (X_train, X_test):\n",
    "    df['pop_size'] = pd.cut(df['city_pop'], bins=pop_bins, labels=pop_labels)"
   ]
  },
  {
   "cell_type": "code",
   "execution_count": 11,
   "id": "aac423d5",
   "metadata": {},
   "outputs": [],
   "source": [
    "# amt × category TE\n",
    "X_train['amt_x_catTE'] = X_train['amt_log'] * X_train['category_te']\n",
    "X_test['amt_x_catTE']  = X_test['amt_log'] * X_test['category_te']\n",
    "\n",
    "# amt × hour_sin\n",
    "X_train['amt_x_hour_sin'] = X_train['amt_log'] * X_train['hour_sin']\n",
    "X_test['amt_x_hour_sin']  = X_test['amt_log'] * X_test['hour_sin']"
   ]
  },
  {
   "cell_type": "code",
   "execution_count": 12,
   "id": "4384e272",
   "metadata": {},
   "outputs": [],
   "source": [
    "# before your RandomizedSearchCV…\n",
    "for df in (X_train, X_test):\n",
    "    df['amt_bin_code']  = df['amt_bin'].cat.codes\n",
    "    df['pop_size_code'] = df['pop_size'].cat.codes\n",
    "\n",
    "# now drop the original categorical columns\n",
    "X_train.drop(['amt_bin','pop_size'], axis=1, inplace=True)\n",
    "X_test .drop(['amt_bin','pop_size'], axis=1, inplace=True)\n"
   ]
  },
  {
   "cell_type": "markdown",
   "id": "fb0d8c63",
   "metadata": {},
   "source": [
    "## Step 8: retrain and SHAP"
   ]
  },
  {
   "cell_type": "code",
   "execution_count": 17,
   "id": "e094f86e",
   "metadata": {},
   "outputs": [
    {
     "name": "stdout",
     "output_type": "stream",
     "text": [
      "Fitting 3 folds for each of 20 candidates, totalling 60 fits\n"
     ]
    },
    {
     "name": "stderr",
     "output_type": "stream",
     "text": [
      "/opt/conda/envs/fraud-detect/lib/python3.11/site-packages/xgboost/training.py:183: UserWarning: [12:19:42] WARNING: /workspace/src/learner.cc:738: \n",
      "Parameters: { \"use_label_encoder\" } are not used.\n",
      "\n",
      "  bst.update(dtrain, iteration=i, fobj=obj)\n",
      "/opt/conda/envs/fraud-detect/lib/python3.11/site-packages/xgboost/training.py:183: UserWarning: [12:19:42] WARNING: /workspace/src/learner.cc:738: \n",
      "Parameters: { \"use_label_encoder\" } are not used.\n",
      "\n",
      "  bst.update(dtrain, iteration=i, fobj=obj)\n"
     ]
    },
    {
     "name": "stdout",
     "output_type": "stream",
     "text": [
      "[CV] END colsample_bytree=0.8, learning_rate=0.05, max_depth=12, n_estimators=200, subsample=1.0; total time= 1.2min\n",
      "[CV] END colsample_bytree=0.8, learning_rate=0.05, max_depth=12, n_estimators=200, subsample=1.0; total time= 1.2min\n"
     ]
    },
    {
     "name": "stderr",
     "output_type": "stream",
     "text": [
      "/opt/conda/envs/fraud-detect/lib/python3.11/site-packages/xgboost/training.py:183: UserWarning: [12:20:56] WARNING: /workspace/src/learner.cc:738: \n",
      "Parameters: { \"use_label_encoder\" } are not used.\n",
      "\n",
      "  bst.update(dtrain, iteration=i, fobj=obj)\n",
      "/opt/conda/envs/fraud-detect/lib/python3.11/site-packages/xgboost/training.py:183: UserWarning: [12:20:56] WARNING: /workspace/src/learner.cc:738: \n",
      "Parameters: { \"use_label_encoder\" } are not used.\n",
      "\n",
      "  bst.update(dtrain, iteration=i, fobj=obj)\n"
     ]
    },
    {
     "name": "stdout",
     "output_type": "stream",
     "text": [
      "[CV] END colsample_bytree=0.8, learning_rate=0.05, max_depth=12, n_estimators=200, subsample=1.0; total time= 1.2min\n"
     ]
    },
    {
     "name": "stderr",
     "output_type": "stream",
     "text": [
      "/opt/conda/envs/fraud-detect/lib/python3.11/site-packages/xgboost/training.py:183: UserWarning: [12:22:08] WARNING: /workspace/src/learner.cc:738: \n",
      "Parameters: { \"use_label_encoder\" } are not used.\n",
      "\n",
      "  bst.update(dtrain, iteration=i, fobj=obj)\n"
     ]
    },
    {
     "name": "stdout",
     "output_type": "stream",
     "text": [
      "[CV] END colsample_bytree=0.8, learning_rate=0.1, max_depth=8, n_estimators=300, subsample=0.8; total time= 1.5min\n"
     ]
    },
    {
     "name": "stderr",
     "output_type": "stream",
     "text": [
      "/opt/conda/envs/fraud-detect/lib/python3.11/site-packages/xgboost/training.py:183: UserWarning: [12:22:25] WARNING: /workspace/src/learner.cc:738: \n",
      "Parameters: { \"use_label_encoder\" } are not used.\n",
      "\n",
      "  bst.update(dtrain, iteration=i, fobj=obj)\n"
     ]
    },
    {
     "name": "stdout",
     "output_type": "stream",
     "text": [
      "[CV] END colsample_bytree=0.8, learning_rate=0.1, max_depth=8, n_estimators=300, subsample=0.8; total time= 1.5min\n"
     ]
    },
    {
     "name": "stderr",
     "output_type": "stream",
     "text": [
      "/opt/conda/envs/fraud-detect/lib/python3.11/site-packages/xgboost/training.py:183: UserWarning: [12:23:36] WARNING: /workspace/src/learner.cc:738: \n",
      "Parameters: { \"use_label_encoder\" } are not used.\n",
      "\n",
      "  bst.update(dtrain, iteration=i, fobj=obj)\n"
     ]
    },
    {
     "name": "stdout",
     "output_type": "stream",
     "text": [
      "[CV] END colsample_bytree=0.8, learning_rate=0.1, max_depth=8, n_estimators=300, subsample=0.8; total time= 1.5min\n"
     ]
    },
    {
     "name": "stderr",
     "output_type": "stream",
     "text": [
      "/opt/conda/envs/fraud-detect/lib/python3.11/site-packages/xgboost/training.py:183: UserWarning: [12:23:55] WARNING: /workspace/src/learner.cc:738: \n",
      "Parameters: { \"use_label_encoder\" } are not used.\n",
      "\n",
      "  bst.update(dtrain, iteration=i, fobj=obj)\n"
     ]
    },
    {
     "name": "stdout",
     "output_type": "stream",
     "text": [
      "[CV] END colsample_bytree=0.8, learning_rate=0.2, max_depth=8, n_estimators=300, subsample=1.0; total time= 1.4min\n"
     ]
    },
    {
     "name": "stderr",
     "output_type": "stream",
     "text": [
      "/opt/conda/envs/fraud-detect/lib/python3.11/site-packages/xgboost/training.py:183: UserWarning: [12:25:02] WARNING: /workspace/src/learner.cc:738: \n",
      "Parameters: { \"use_label_encoder\" } are not used.\n",
      "\n",
      "  bst.update(dtrain, iteration=i, fobj=obj)\n"
     ]
    },
    {
     "name": "stdout",
     "output_type": "stream",
     "text": [
      "[CV] END colsample_bytree=0.8, learning_rate=0.2, max_depth=8, n_estimators=300, subsample=1.0; total time= 1.4min\n"
     ]
    },
    {
     "name": "stderr",
     "output_type": "stream",
     "text": [
      "/opt/conda/envs/fraud-detect/lib/python3.11/site-packages/xgboost/training.py:183: UserWarning: [12:25:20] WARNING: /workspace/src/learner.cc:738: \n",
      "Parameters: { \"use_label_encoder\" } are not used.\n",
      "\n",
      "  bst.update(dtrain, iteration=i, fobj=obj)\n"
     ]
    },
    {
     "name": "stdout",
     "output_type": "stream",
     "text": [
      "[CV] END colsample_bytree=0.8, learning_rate=0.2, max_depth=8, n_estimators=300, subsample=1.0; total time= 1.4min\n",
      "[CV] END colsample_bytree=0.6, learning_rate=0.05, max_depth=12, n_estimators=200, subsample=0.8; total time= 1.2min\n"
     ]
    },
    {
     "name": "stderr",
     "output_type": "stream",
     "text": [
      "/opt/conda/envs/fraud-detect/lib/python3.11/site-packages/xgboost/training.py:183: UserWarning: [12:26:28] WARNING: /workspace/src/learner.cc:738: \n",
      "Parameters: { \"use_label_encoder\" } are not used.\n",
      "\n",
      "  bst.update(dtrain, iteration=i, fobj=obj)\n",
      "/opt/conda/envs/fraud-detect/lib/python3.11/site-packages/xgboost/training.py:183: UserWarning: [12:26:30] WARNING: /workspace/src/learner.cc:738: \n",
      "Parameters: { \"use_label_encoder\" } are not used.\n",
      "\n",
      "  bst.update(dtrain, iteration=i, fobj=obj)\n"
     ]
    },
    {
     "name": "stdout",
     "output_type": "stream",
     "text": [
      "[CV] END colsample_bytree=0.6, learning_rate=0.05, max_depth=12, n_estimators=200, subsample=0.8; total time= 1.2min\n",
      "[CV] END colsample_bytree=0.6, learning_rate=0.05, max_depth=12, n_estimators=200, subsample=0.8; total time= 1.2min\n"
     ]
    },
    {
     "name": "stderr",
     "output_type": "stream",
     "text": [
      "/opt/conda/envs/fraud-detect/lib/python3.11/site-packages/xgboost/training.py:183: UserWarning: [12:27:40] WARNING: /workspace/src/learner.cc:738: \n",
      "Parameters: { \"use_label_encoder\" } are not used.\n",
      "\n",
      "  bst.update(dtrain, iteration=i, fobj=obj)\n",
      "/opt/conda/envs/fraud-detect/lib/python3.11/site-packages/xgboost/training.py:183: UserWarning: [12:27:41] WARNING: /workspace/src/learner.cc:738: \n",
      "Parameters: { \"use_label_encoder\" } are not used.\n",
      "\n",
      "  bst.update(dtrain, iteration=i, fobj=obj)\n"
     ]
    },
    {
     "name": "stdout",
     "output_type": "stream",
     "text": [
      "[CV] END colsample_bytree=1.0, learning_rate=0.05, max_depth=6, n_estimators=300, subsample=0.8; total time= 1.3min\n",
      "[CV] END colsample_bytree=1.0, learning_rate=0.05, max_depth=6, n_estimators=300, subsample=0.8; total time= 1.3min\n"
     ]
    },
    {
     "name": "stderr",
     "output_type": "stream",
     "text": [
      "/opt/conda/envs/fraud-detect/lib/python3.11/site-packages/xgboost/training.py:183: UserWarning: [12:28:56] WARNING: /workspace/src/learner.cc:738: \n",
      "Parameters: { \"use_label_encoder\" } are not used.\n",
      "\n",
      "  bst.update(dtrain, iteration=i, fobj=obj)\n",
      "/opt/conda/envs/fraud-detect/lib/python3.11/site-packages/xgboost/training.py:183: UserWarning: [12:28:57] WARNING: /workspace/src/learner.cc:738: \n",
      "Parameters: { \"use_label_encoder\" } are not used.\n",
      "\n",
      "  bst.update(dtrain, iteration=i, fobj=obj)\n"
     ]
    },
    {
     "name": "stdout",
     "output_type": "stream",
     "text": [
      "[CV] END colsample_bytree=1.0, learning_rate=0.05, max_depth=6, n_estimators=300, subsample=0.8; total time= 1.3min\n"
     ]
    },
    {
     "name": "stderr",
     "output_type": "stream",
     "text": [
      "/opt/conda/envs/fraud-detect/lib/python3.11/site-packages/xgboost/training.py:183: UserWarning: [12:30:14] WARNING: /workspace/src/learner.cc:738: \n",
      "Parameters: { \"use_label_encoder\" } are not used.\n",
      "\n",
      "  bst.update(dtrain, iteration=i, fobj=obj)\n"
     ]
    },
    {
     "name": "stdout",
     "output_type": "stream",
     "text": [
      "[CV] END colsample_bytree=0.6, learning_rate=0.15, max_depth=8, n_estimators=300, subsample=0.8; total time= 1.5min\n"
     ]
    },
    {
     "name": "stderr",
     "output_type": "stream",
     "text": [
      "/opt/conda/envs/fraud-detect/lib/python3.11/site-packages/xgboost/training.py:183: UserWarning: [12:30:25] WARNING: /workspace/src/learner.cc:738: \n",
      "Parameters: { \"use_label_encoder\" } are not used.\n",
      "\n",
      "  bst.update(dtrain, iteration=i, fobj=obj)\n"
     ]
    },
    {
     "name": "stdout",
     "output_type": "stream",
     "text": [
      "[CV] END colsample_bytree=0.6, learning_rate=0.15, max_depth=8, n_estimators=300, subsample=0.8; total time= 1.5min\n"
     ]
    },
    {
     "name": "stderr",
     "output_type": "stream",
     "text": [
      "/opt/conda/envs/fraud-detect/lib/python3.11/site-packages/xgboost/training.py:183: UserWarning: [12:31:42] WARNING: /workspace/src/learner.cc:738: \n",
      "Parameters: { \"use_label_encoder\" } are not used.\n",
      "\n",
      "  bst.update(dtrain, iteration=i, fobj=obj)\n"
     ]
    },
    {
     "name": "stdout",
     "output_type": "stream",
     "text": [
      "[CV] END colsample_bytree=0.6, learning_rate=0.15, max_depth=8, n_estimators=300, subsample=0.8; total time= 1.5min\n"
     ]
    },
    {
     "name": "stderr",
     "output_type": "stream",
     "text": [
      "/opt/conda/envs/fraud-detect/lib/python3.11/site-packages/xgboost/training.py:183: UserWarning: [12:31:54] WARNING: /workspace/src/learner.cc:738: \n",
      "Parameters: { \"use_label_encoder\" } are not used.\n",
      "\n",
      "  bst.update(dtrain, iteration=i, fobj=obj)\n"
     ]
    },
    {
     "name": "stdout",
     "output_type": "stream",
     "text": [
      "[CV] END colsample_bytree=0.8, learning_rate=0.2, max_depth=10, n_estimators=400, subsample=0.8; total time= 2.2min\n"
     ]
    },
    {
     "name": "stderr",
     "output_type": "stream",
     "text": [
      "/opt/conda/envs/fraud-detect/lib/python3.11/site-packages/xgboost/training.py:183: UserWarning: [12:33:57] WARNING: /workspace/src/learner.cc:738: \n",
      "Parameters: { \"use_label_encoder\" } are not used.\n",
      "\n",
      "  bst.update(dtrain, iteration=i, fobj=obj)\n"
     ]
    },
    {
     "name": "stdout",
     "output_type": "stream",
     "text": [
      "[CV] END colsample_bytree=0.8, learning_rate=0.2, max_depth=10, n_estimators=400, subsample=0.8; total time= 2.2min\n"
     ]
    },
    {
     "name": "stderr",
     "output_type": "stream",
     "text": [
      "/opt/conda/envs/fraud-detect/lib/python3.11/site-packages/xgboost/training.py:183: UserWarning: [12:34:08] WARNING: /workspace/src/learner.cc:738: \n",
      "Parameters: { \"use_label_encoder\" } are not used.\n",
      "\n",
      "  bst.update(dtrain, iteration=i, fobj=obj)\n"
     ]
    },
    {
     "name": "stdout",
     "output_type": "stream",
     "text": [
      "[CV] END colsample_bytree=0.6, learning_rate=0.15, max_depth=12, n_estimators=200, subsample=1.0; total time= 1.2min\n"
     ]
    },
    {
     "name": "stderr",
     "output_type": "stream",
     "text": [
      "/opt/conda/envs/fraud-detect/lib/python3.11/site-packages/xgboost/training.py:183: UserWarning: [12:35:22] WARNING: /workspace/src/learner.cc:738: \n",
      "Parameters: { \"use_label_encoder\" } are not used.\n",
      "\n",
      "  bst.update(dtrain, iteration=i, fobj=obj)\n"
     ]
    },
    {
     "name": "stdout",
     "output_type": "stream",
     "text": [
      "[CV] END colsample_bytree=0.8, learning_rate=0.2, max_depth=10, n_estimators=400, subsample=0.8; total time= 2.3min\n"
     ]
    },
    {
     "name": "stderr",
     "output_type": "stream",
     "text": [
      "/opt/conda/envs/fraud-detect/lib/python3.11/site-packages/xgboost/training.py:183: UserWarning: [12:36:12] WARNING: /workspace/src/learner.cc:738: \n",
      "Parameters: { \"use_label_encoder\" } are not used.\n",
      "\n",
      "  bst.update(dtrain, iteration=i, fobj=obj)\n"
     ]
    },
    {
     "name": "stdout",
     "output_type": "stream",
     "text": [
      "[CV] END colsample_bytree=0.6, learning_rate=0.15, max_depth=12, n_estimators=200, subsample=1.0; total time= 1.2min\n"
     ]
    },
    {
     "name": "stderr",
     "output_type": "stream",
     "text": [
      "/opt/conda/envs/fraud-detect/lib/python3.11/site-packages/xgboost/training.py:183: UserWarning: [12:36:35] WARNING: /workspace/src/learner.cc:738: \n",
      "Parameters: { \"use_label_encoder\" } are not used.\n",
      "\n",
      "  bst.update(dtrain, iteration=i, fobj=obj)\n"
     ]
    },
    {
     "name": "stdout",
     "output_type": "stream",
     "text": [
      "[CV] END colsample_bytree=0.6, learning_rate=0.15, max_depth=12, n_estimators=200, subsample=1.0; total time= 1.2min\n"
     ]
    },
    {
     "name": "stderr",
     "output_type": "stream",
     "text": [
      "/opt/conda/envs/fraud-detect/lib/python3.11/site-packages/xgboost/training.py:183: UserWarning: [12:37:26] WARNING: /workspace/src/learner.cc:738: \n",
      "Parameters: { \"use_label_encoder\" } are not used.\n",
      "\n",
      "  bst.update(dtrain, iteration=i, fobj=obj)\n"
     ]
    },
    {
     "name": "stdout",
     "output_type": "stream",
     "text": [
      "[CV] END colsample_bytree=0.6, learning_rate=0.15, max_depth=10, n_estimators=300, subsample=1.0; total time= 1.6min\n"
     ]
    },
    {
     "name": "stderr",
     "output_type": "stream",
     "text": [
      "/opt/conda/envs/fraud-detect/lib/python3.11/site-packages/xgboost/training.py:183: UserWarning: [12:38:13] WARNING: /workspace/src/learner.cc:738: \n",
      "Parameters: { \"use_label_encoder\" } are not used.\n",
      "\n",
      "  bst.update(dtrain, iteration=i, fobj=obj)\n"
     ]
    },
    {
     "name": "stdout",
     "output_type": "stream",
     "text": [
      "[CV] END colsample_bytree=0.6, learning_rate=0.15, max_depth=10, n_estimators=300, subsample=1.0; total time= 1.6min\n"
     ]
    },
    {
     "name": "stderr",
     "output_type": "stream",
     "text": [
      "/opt/conda/envs/fraud-detect/lib/python3.11/site-packages/xgboost/training.py:183: UserWarning: [12:39:03] WARNING: /workspace/src/learner.cc:738: \n",
      "Parameters: { \"use_label_encoder\" } are not used.\n",
      "\n",
      "  bst.update(dtrain, iteration=i, fobj=obj)\n"
     ]
    },
    {
     "name": "stdout",
     "output_type": "stream",
     "text": [
      "[CV] END colsample_bytree=0.6, learning_rate=0.15, max_depth=10, n_estimators=300, subsample=1.0; total time= 1.6min\n"
     ]
    },
    {
     "name": "stderr",
     "output_type": "stream",
     "text": [
      "/opt/conda/envs/fraud-detect/lib/python3.11/site-packages/xgboost/training.py:183: UserWarning: [12:39:51] WARNING: /workspace/src/learner.cc:738: \n",
      "Parameters: { \"use_label_encoder\" } are not used.\n",
      "\n",
      "  bst.update(dtrain, iteration=i, fobj=obj)\n"
     ]
    },
    {
     "name": "stdout",
     "output_type": "stream",
     "text": [
      "[CV] END colsample_bytree=0.6, learning_rate=0.15, max_depth=8, n_estimators=300, subsample=1.0; total time= 1.4min\n"
     ]
    },
    {
     "name": "stderr",
     "output_type": "stream",
     "text": [
      "/opt/conda/envs/fraud-detect/lib/python3.11/site-packages/xgboost/training.py:183: UserWarning: [12:40:28] WARNING: /workspace/src/learner.cc:738: \n",
      "Parameters: { \"use_label_encoder\" } are not used.\n",
      "\n",
      "  bst.update(dtrain, iteration=i, fobj=obj)\n"
     ]
    },
    {
     "name": "stdout",
     "output_type": "stream",
     "text": [
      "[CV] END colsample_bytree=0.6, learning_rate=0.15, max_depth=8, n_estimators=300, subsample=1.0; total time= 1.4min\n"
     ]
    },
    {
     "name": "stderr",
     "output_type": "stream",
     "text": [
      "/opt/conda/envs/fraud-detect/lib/python3.11/site-packages/xgboost/training.py:183: UserWarning: [12:41:14] WARNING: /workspace/src/learner.cc:738: \n",
      "Parameters: { \"use_label_encoder\" } are not used.\n",
      "\n",
      "  bst.update(dtrain, iteration=i, fobj=obj)\n"
     ]
    },
    {
     "name": "stdout",
     "output_type": "stream",
     "text": [
      "[CV] END colsample_bytree=0.6, learning_rate=0.15, max_depth=8, n_estimators=300, subsample=1.0; total time= 1.4min\n"
     ]
    },
    {
     "name": "stderr",
     "output_type": "stream",
     "text": [
      "/opt/conda/envs/fraud-detect/lib/python3.11/site-packages/xgboost/training.py:183: UserWarning: [12:41:53] WARNING: /workspace/src/learner.cc:738: \n",
      "Parameters: { \"use_label_encoder\" } are not used.\n",
      "\n",
      "  bst.update(dtrain, iteration=i, fobj=obj)\n"
     ]
    },
    {
     "name": "stdout",
     "output_type": "stream",
     "text": [
      "[CV] END colsample_bytree=0.8, learning_rate=0.2, max_depth=10, n_estimators=200, subsample=0.8; total time= 1.2min\n"
     ]
    },
    {
     "name": "stderr",
     "output_type": "stream",
     "text": [
      "/opt/conda/envs/fraud-detect/lib/python3.11/site-packages/xgboost/training.py:183: UserWarning: [12:42:24] WARNING: /workspace/src/learner.cc:738: \n",
      "Parameters: { \"use_label_encoder\" } are not used.\n",
      "\n",
      "  bst.update(dtrain, iteration=i, fobj=obj)\n"
     ]
    },
    {
     "name": "stdout",
     "output_type": "stream",
     "text": [
      "[CV] END colsample_bytree=0.8, learning_rate=0.2, max_depth=10, n_estimators=200, subsample=0.8; total time= 1.2min\n"
     ]
    },
    {
     "name": "stderr",
     "output_type": "stream",
     "text": [
      "/opt/conda/envs/fraud-detect/lib/python3.11/site-packages/xgboost/training.py:183: UserWarning: [12:43:03] WARNING: /workspace/src/learner.cc:738: \n",
      "Parameters: { \"use_label_encoder\" } are not used.\n",
      "\n",
      "  bst.update(dtrain, iteration=i, fobj=obj)\n"
     ]
    },
    {
     "name": "stdout",
     "output_type": "stream",
     "text": [
      "[CV] END colsample_bytree=0.8, learning_rate=0.2, max_depth=10, n_estimators=200, subsample=0.8; total time= 1.2min\n"
     ]
    },
    {
     "name": "stderr",
     "output_type": "stream",
     "text": [
      "/opt/conda/envs/fraud-detect/lib/python3.11/site-packages/xgboost/training.py:183: UserWarning: [12:43:35] WARNING: /workspace/src/learner.cc:738: \n",
      "Parameters: { \"use_label_encoder\" } are not used.\n",
      "\n",
      "  bst.update(dtrain, iteration=i, fobj=obj)\n"
     ]
    },
    {
     "name": "stdout",
     "output_type": "stream",
     "text": [
      "[CV] END colsample_bytree=1.0, learning_rate=0.2, max_depth=10, n_estimators=300, subsample=0.8; total time= 1.7min\n"
     ]
    },
    {
     "name": "stderr",
     "output_type": "stream",
     "text": [
      "/opt/conda/envs/fraud-detect/lib/python3.11/site-packages/xgboost/training.py:183: UserWarning: [12:44:47] WARNING: /workspace/src/learner.cc:738: \n",
      "Parameters: { \"use_label_encoder\" } are not used.\n",
      "\n",
      "  bst.update(dtrain, iteration=i, fobj=obj)\n"
     ]
    },
    {
     "name": "stdout",
     "output_type": "stream",
     "text": [
      "[CV] END colsample_bytree=1.0, learning_rate=0.2, max_depth=10, n_estimators=300, subsample=0.8; total time= 1.7min\n"
     ]
    },
    {
     "name": "stderr",
     "output_type": "stream",
     "text": [
      "/opt/conda/envs/fraud-detect/lib/python3.11/site-packages/xgboost/training.py:183: UserWarning: [12:45:20] WARNING: /workspace/src/learner.cc:738: \n",
      "Parameters: { \"use_label_encoder\" } are not used.\n",
      "\n",
      "  bst.update(dtrain, iteration=i, fobj=obj)\n"
     ]
    },
    {
     "name": "stdout",
     "output_type": "stream",
     "text": [
      "[CV] END colsample_bytree=1.0, learning_rate=0.2, max_depth=10, n_estimators=300, subsample=0.8; total time= 1.8min\n"
     ]
    },
    {
     "name": "stderr",
     "output_type": "stream",
     "text": [
      "/opt/conda/envs/fraud-detect/lib/python3.11/site-packages/xgboost/training.py:183: UserWarning: [12:46:32] WARNING: /workspace/src/learner.cc:738: \n",
      "Parameters: { \"use_label_encoder\" } are not used.\n",
      "\n",
      "  bst.update(dtrain, iteration=i, fobj=obj)\n"
     ]
    },
    {
     "name": "stdout",
     "output_type": "stream",
     "text": [
      "[CV] END colsample_bytree=0.8, learning_rate=0.1, max_depth=8, n_estimators=400, subsample=1.0; total time= 1.9min\n"
     ]
    },
    {
     "name": "stderr",
     "output_type": "stream",
     "text": [
      "/opt/conda/envs/fraud-detect/lib/python3.11/site-packages/xgboost/training.py:183: UserWarning: [12:47:14] WARNING: /workspace/src/learner.cc:738: \n",
      "Parameters: { \"use_label_encoder\" } are not used.\n",
      "\n",
      "  bst.update(dtrain, iteration=i, fobj=obj)\n"
     ]
    },
    {
     "name": "stdout",
     "output_type": "stream",
     "text": [
      "[CV] END colsample_bytree=0.8, learning_rate=0.1, max_depth=8, n_estimators=400, subsample=1.0; total time= 1.8min\n"
     ]
    },
    {
     "name": "stderr",
     "output_type": "stream",
     "text": [
      "/opt/conda/envs/fraud-detect/lib/python3.11/site-packages/xgboost/training.py:183: UserWarning: [12:48:21] WARNING: /workspace/src/learner.cc:738: \n",
      "Parameters: { \"use_label_encoder\" } are not used.\n",
      "\n",
      "  bst.update(dtrain, iteration=i, fobj=obj)\n"
     ]
    },
    {
     "name": "stdout",
     "output_type": "stream",
     "text": [
      "[CV] END colsample_bytree=0.8, learning_rate=0.1, max_depth=8, n_estimators=400, subsample=1.0; total time= 1.9min\n"
     ]
    },
    {
     "name": "stderr",
     "output_type": "stream",
     "text": [
      "/opt/conda/envs/fraud-detect/lib/python3.11/site-packages/xgboost/training.py:183: UserWarning: [12:49:08] WARNING: /workspace/src/learner.cc:738: \n",
      "Parameters: { \"use_label_encoder\" } are not used.\n",
      "\n",
      "  bst.update(dtrain, iteration=i, fobj=obj)\n"
     ]
    },
    {
     "name": "stdout",
     "output_type": "stream",
     "text": [
      "[CV] END colsample_bytree=0.8, learning_rate=0.2, max_depth=12, n_estimators=300, subsample=0.8; total time= 1.8min\n"
     ]
    },
    {
     "name": "stderr",
     "output_type": "stream",
     "text": [
      "/opt/conda/envs/fraud-detect/lib/python3.11/site-packages/xgboost/training.py:183: UserWarning: [12:50:10] WARNING: /workspace/src/learner.cc:738: \n",
      "Parameters: { \"use_label_encoder\" } are not used.\n",
      "\n",
      "  bst.update(dtrain, iteration=i, fobj=obj)\n"
     ]
    },
    {
     "name": "stdout",
     "output_type": "stream",
     "text": [
      "[CV] END colsample_bytree=0.8, learning_rate=0.2, max_depth=12, n_estimators=300, subsample=0.8; total time= 1.8min\n"
     ]
    },
    {
     "name": "stderr",
     "output_type": "stream",
     "text": [
      "/opt/conda/envs/fraud-detect/lib/python3.11/site-packages/xgboost/training.py:183: UserWarning: [12:50:56] WARNING: /workspace/src/learner.cc:738: \n",
      "Parameters: { \"use_label_encoder\" } are not used.\n",
      "\n",
      "  bst.update(dtrain, iteration=i, fobj=obj)\n"
     ]
    },
    {
     "name": "stdout",
     "output_type": "stream",
     "text": [
      "[CV] END colsample_bytree=0.8, learning_rate=0.15, max_depth=8, n_estimators=200, subsample=0.8; total time= 1.0min\n",
      "[CV] END colsample_bytree=0.8, learning_rate=0.2, max_depth=12, n_estimators=300, subsample=0.8; total time= 1.8min\n"
     ]
    },
    {
     "name": "stderr",
     "output_type": "stream",
     "text": [
      "/opt/conda/envs/fraud-detect/lib/python3.11/site-packages/xgboost/training.py:183: UserWarning: [12:51:57] WARNING: /workspace/src/learner.cc:738: \n",
      "Parameters: { \"use_label_encoder\" } are not used.\n",
      "\n",
      "  bst.update(dtrain, iteration=i, fobj=obj)\n",
      "/opt/conda/envs/fraud-detect/lib/python3.11/site-packages/xgboost/training.py:183: UserWarning: [12:51:59] WARNING: /workspace/src/learner.cc:738: \n",
      "Parameters: { \"use_label_encoder\" } are not used.\n",
      "\n",
      "  bst.update(dtrain, iteration=i, fobj=obj)\n"
     ]
    },
    {
     "name": "stdout",
     "output_type": "stream",
     "text": [
      "[CV] END colsample_bytree=0.8, learning_rate=0.15, max_depth=8, n_estimators=200, subsample=0.8; total time= 1.0min\n",
      "[CV] END colsample_bytree=0.8, learning_rate=0.15, max_depth=8, n_estimators=200, subsample=0.8; total time= 1.0min\n"
     ]
    },
    {
     "name": "stderr",
     "output_type": "stream",
     "text": [
      "/opt/conda/envs/fraud-detect/lib/python3.11/site-packages/xgboost/training.py:183: UserWarning: [12:52:58] WARNING: /workspace/src/learner.cc:738: \n",
      "Parameters: { \"use_label_encoder\" } are not used.\n",
      "\n",
      "  bst.update(dtrain, iteration=i, fobj=obj)\n",
      "/opt/conda/envs/fraud-detect/lib/python3.11/site-packages/xgboost/training.py:183: UserWarning: [12:52:59] WARNING: /workspace/src/learner.cc:738: \n",
      "Parameters: { \"use_label_encoder\" } are not used.\n",
      "\n",
      "  bst.update(dtrain, iteration=i, fobj=obj)\n"
     ]
    },
    {
     "name": "stdout",
     "output_type": "stream",
     "text": [
      "[CV] END colsample_bytree=0.8, learning_rate=0.1, max_depth=6, n_estimators=200, subsample=0.8; total time=  52.1s\n",
      "[CV] END colsample_bytree=0.8, learning_rate=0.1, max_depth=6, n_estimators=200, subsample=0.8; total time=  52.0s\n"
     ]
    },
    {
     "name": "stderr",
     "output_type": "stream",
     "text": [
      "/opt/conda/envs/fraud-detect/lib/python3.11/site-packages/xgboost/training.py:183: UserWarning: [12:53:50] WARNING: /workspace/src/learner.cc:738: \n",
      "Parameters: { \"use_label_encoder\" } are not used.\n",
      "\n",
      "  bst.update(dtrain, iteration=i, fobj=obj)\n",
      "/opt/conda/envs/fraud-detect/lib/python3.11/site-packages/xgboost/training.py:183: UserWarning: [12:53:51] WARNING: /workspace/src/learner.cc:738: \n",
      "Parameters: { \"use_label_encoder\" } are not used.\n",
      "\n",
      "  bst.update(dtrain, iteration=i, fobj=obj)\n"
     ]
    },
    {
     "name": "stdout",
     "output_type": "stream",
     "text": [
      "[CV] END colsample_bytree=0.8, learning_rate=0.1, max_depth=6, n_estimators=200, subsample=0.8; total time=  53.6s\n"
     ]
    },
    {
     "name": "stderr",
     "output_type": "stream",
     "text": [
      "/opt/conda/envs/fraud-detect/lib/python3.11/site-packages/xgboost/training.py:183: UserWarning: [12:54:43] WARNING: /workspace/src/learner.cc:738: \n",
      "Parameters: { \"use_label_encoder\" } are not used.\n",
      "\n",
      "  bst.update(dtrain, iteration=i, fobj=obj)\n"
     ]
    },
    {
     "name": "stdout",
     "output_type": "stream",
     "text": [
      "[CV] END colsample_bytree=0.8, learning_rate=0.1, max_depth=10, n_estimators=400, subsample=1.0; total time= 2.1min\n"
     ]
    },
    {
     "name": "stderr",
     "output_type": "stream",
     "text": [
      "/opt/conda/envs/fraud-detect/lib/python3.11/site-packages/xgboost/training.py:183: UserWarning: [12:55:57] WARNING: /workspace/src/learner.cc:738: \n",
      "Parameters: { \"use_label_encoder\" } are not used.\n",
      "\n",
      "  bst.update(dtrain, iteration=i, fobj=obj)\n"
     ]
    },
    {
     "name": "stdout",
     "output_type": "stream",
     "text": [
      "[CV] END colsample_bytree=0.8, learning_rate=0.1, max_depth=10, n_estimators=400, subsample=1.0; total time= 2.1min\n"
     ]
    },
    {
     "name": "stderr",
     "output_type": "stream",
     "text": [
      "/opt/conda/envs/fraud-detect/lib/python3.11/site-packages/xgboost/training.py:183: UserWarning: [12:56:51] WARNING: /workspace/src/learner.cc:738: \n",
      "Parameters: { \"use_label_encoder\" } are not used.\n",
      "\n",
      "  bst.update(dtrain, iteration=i, fobj=obj)\n"
     ]
    },
    {
     "name": "stdout",
     "output_type": "stream",
     "text": [
      "[CV] END colsample_bytree=0.8, learning_rate=0.1, max_depth=10, n_estimators=400, subsample=1.0; total time= 2.1min\n"
     ]
    },
    {
     "name": "stderr",
     "output_type": "stream",
     "text": [
      "/opt/conda/envs/fraud-detect/lib/python3.11/site-packages/xgboost/training.py:183: UserWarning: [12:58:05] WARNING: /workspace/src/learner.cc:738: \n",
      "Parameters: { \"use_label_encoder\" } are not used.\n",
      "\n",
      "  bst.update(dtrain, iteration=i, fobj=obj)\n"
     ]
    },
    {
     "name": "stdout",
     "output_type": "stream",
     "text": [
      "[CV] END colsample_bytree=0.8, learning_rate=0.05, max_depth=6, n_estimators=400, subsample=0.8; total time= 1.7min\n"
     ]
    },
    {
     "name": "stderr",
     "output_type": "stream",
     "text": [
      "/opt/conda/envs/fraud-detect/lib/python3.11/site-packages/xgboost/training.py:183: UserWarning: [12:58:30] WARNING: /workspace/src/learner.cc:738: \n",
      "Parameters: { \"use_label_encoder\" } are not used.\n",
      "\n",
      "  bst.update(dtrain, iteration=i, fobj=obj)\n"
     ]
    },
    {
     "name": "stdout",
     "output_type": "stream",
     "text": [
      "[CV] END colsample_bytree=0.8, learning_rate=0.05, max_depth=6, n_estimators=400, subsample=0.8; total time= 1.6min\n"
     ]
    },
    {
     "name": "stderr",
     "output_type": "stream",
     "text": [
      "/opt/conda/envs/fraud-detect/lib/python3.11/site-packages/xgboost/training.py:183: UserWarning: [12:59:44] WARNING: /workspace/src/learner.cc:738: \n",
      "Parameters: { \"use_label_encoder\" } are not used.\n",
      "\n",
      "  bst.update(dtrain, iteration=i, fobj=obj)\n"
     ]
    },
    {
     "name": "stdout",
     "output_type": "stream",
     "text": [
      "[CV] END colsample_bytree=0.8, learning_rate=0.05, max_depth=6, n_estimators=400, subsample=0.8; total time= 1.7min\n"
     ]
    },
    {
     "name": "stderr",
     "output_type": "stream",
     "text": [
      "/opt/conda/envs/fraud-detect/lib/python3.11/site-packages/xgboost/training.py:183: UserWarning: [13:00:10] WARNING: /workspace/src/learner.cc:738: \n",
      "Parameters: { \"use_label_encoder\" } are not used.\n",
      "\n",
      "  bst.update(dtrain, iteration=i, fobj=obj)\n"
     ]
    },
    {
     "name": "stdout",
     "output_type": "stream",
     "text": [
      "[CV] END colsample_bytree=0.8, learning_rate=0.1, max_depth=6, n_estimators=400, subsample=0.8; total time= 1.7min\n"
     ]
    },
    {
     "name": "stderr",
     "output_type": "stream",
     "text": [
      "/opt/conda/envs/fraud-detect/lib/python3.11/site-packages/xgboost/training.py:183: UserWarning: [13:01:23] WARNING: /workspace/src/learner.cc:738: \n",
      "Parameters: { \"use_label_encoder\" } are not used.\n",
      "\n",
      "  bst.update(dtrain, iteration=i, fobj=obj)\n"
     ]
    },
    {
     "name": "stdout",
     "output_type": "stream",
     "text": [
      "[CV] END colsample_bytree=0.8, learning_rate=0.1, max_depth=6, n_estimators=400, subsample=0.8; total time= 1.6min\n"
     ]
    },
    {
     "name": "stderr",
     "output_type": "stream",
     "text": [
      "/opt/conda/envs/fraud-detect/lib/python3.11/site-packages/xgboost/training.py:183: UserWarning: [13:01:48] WARNING: /workspace/src/learner.cc:738: \n",
      "Parameters: { \"use_label_encoder\" } are not used.\n",
      "\n",
      "  bst.update(dtrain, iteration=i, fobj=obj)\n"
     ]
    },
    {
     "name": "stdout",
     "output_type": "stream",
     "text": [
      "[CV] END colsample_bytree=0.8, learning_rate=0.1, max_depth=6, n_estimators=400, subsample=0.8; total time= 1.7min\n"
     ]
    },
    {
     "name": "stderr",
     "output_type": "stream",
     "text": [
      "/opt/conda/envs/fraud-detect/lib/python3.11/site-packages/xgboost/training.py:183: UserWarning: [13:03:03] WARNING: /workspace/src/learner.cc:738: \n",
      "Parameters: { \"use_label_encoder\" } are not used.\n",
      "\n",
      "  bst.update(dtrain, iteration=i, fobj=obj)\n"
     ]
    },
    {
     "name": "stdout",
     "output_type": "stream",
     "text": [
      "[CV] END colsample_bytree=1.0, learning_rate=0.2, max_depth=10, n_estimators=400, subsample=1.0; total time= 2.1min\n"
     ]
    },
    {
     "name": "stderr",
     "output_type": "stream",
     "text": [
      "/opt/conda/envs/fraud-detect/lib/python3.11/site-packages/xgboost/training.py:183: UserWarning: [13:03:56] WARNING: /workspace/src/learner.cc:738: \n",
      "Parameters: { \"use_label_encoder\" } are not used.\n",
      "\n",
      "  bst.update(dtrain, iteration=i, fobj=obj)\n"
     ]
    },
    {
     "name": "stdout",
     "output_type": "stream",
     "text": [
      "[CV] END colsample_bytree=1.0, learning_rate=0.2, max_depth=10, n_estimators=400, subsample=1.0; total time= 2.1min\n",
      "[CV] END colsample_bytree=1.0, learning_rate=0.2, max_depth=10, n_estimators=400, subsample=1.0; total time= 1.8min\n"
     ]
    },
    {
     "name": "stderr",
     "output_type": "stream",
     "text": [
      "/opt/conda/envs/fraud-detect/lib/python3.11/site-packages/xgboost/training.py:183: UserWarning: [13:05:41] WARNING: /workspace/src/learner.cc:738: \n",
      "Parameters: { \"use_label_encoder\" } are not used.\n",
      "\n",
      "  bst.update(dtrain, iteration=i, fobj=obj)\n"
     ]
    },
    {
     "name": "stdout",
     "output_type": "stream",
     "text": [
      "Best params: {'subsample': 1.0, 'n_estimators': 200, 'max_depth': 12, 'learning_rate': 0.15, 'colsample_bytree': 0.6}\n"
     ]
    }
   ],
   "source": [
    "# New best parameters\n",
    "from sklearn.model_selection import RandomizedSearchCV\n",
    "from xgboost import XGBClassifier\n",
    "\n",
    "param_dist = {\n",
    "    'learning_rate':    [0.05, 0.1, 0.15, 0.2],\n",
    "    'max_depth':        [6, 8, 10, 12],\n",
    "    'n_estimators':     [200, 300, 400],\n",
    "    'subsample':        [0.8, 1.0],\n",
    "    'colsample_bytree': [0.6, 0.8, 1.0]\n",
    "}\n",
    "\n",
    "xgb = XGBClassifier(\n",
    "    objective='binary:logistic',\n",
    "    eval_metric='logloss',\n",
    "    use_label_encoder=False,\n",
    "    scale_pos_weight=(y_train == 0).sum() / (y_train == 1).sum(),\n",
    "    random_state=42\n",
    ")\n",
    "\n",
    "search = RandomizedSearchCV(\n",
    "    xgb, param_distributions=param_dist,\n",
    "    n_iter=20,               # fewer trials for speed\n",
    "    cv=3, \n",
    "    scoring='f1',            # or 'roc_auc', depending on your goal\n",
    "    verbose=2,\n",
    "    n_jobs=-1,\n",
    "    error_score='raise'\n",
    ")\n",
    "\n",
    "search.fit(X_train, y_train,\n",
    "           eval_set=[(X_test, y_test)],\n",
    "           verbose=False)\n",
    "\n",
    "print(\"Best params:\", search.best_params_)\n"
   ]
  },
  {
   "cell_type": "markdown",
   "id": "dc5d4ee4",
   "metadata": {},
   "source": [
    "### Final Model Training\n",
    "\n",
    "Now that we’ve identified the best hyperparameters via `RandomizedSearchCV`, we train our final XGBoost classifier with:\n",
    "\n",
    "- **subsample:** 1.0  \n",
    "- **n_estimators:** 200  \n",
    "- **max_depth:** 12  \n",
    "- **learning_rate:** 0.15  \n",
    "- **colsample_bytree:** 0.6  \n",
    "\n",
    "We also use `scale_pos_weight` to correct for our class imbalance, and apply early stopping on the test set to avoid over-fitting.\n"
   ]
  },
  {
   "cell_type": "code",
   "execution_count": 13,
   "id": "fcfb7a6c",
   "metadata": {},
   "outputs": [
    {
     "name": "stderr",
     "output_type": "stream",
     "text": [
      "/opt/conda/envs/fraud-detect/lib/python3.11/site-packages/xgboost/training.py:183: UserWarning: [14:34:40] WARNING: /workspace/src/learner.cc:738: \n",
      "Parameters: { \"use_label_encoder\" } are not used.\n",
      "\n",
      "  bst.update(dtrain, iteration=i, fobj=obj)\n"
     ]
    },
    {
     "name": "stdout",
     "output_type": "stream",
     "text": [
      "Confusion Matrix:\n",
      "[[553002    572]\n",
      " [   564   1581]]\n",
      "\n",
      "Classification Report:\n",
      "              precision    recall  f1-score   support\n",
      "\n",
      "           0       1.00      1.00      1.00    553574\n",
      "           1       0.73      0.74      0.74      2145\n",
      "\n",
      "    accuracy                           1.00    555719\n",
      "   macro avg       0.87      0.87      0.87    555719\n",
      "weighted avg       1.00      1.00      1.00    555719\n",
      "\n"
     ]
    }
   ],
   "source": [
    "from xgboost import XGBClassifier\n",
    "from sklearn.metrics import confusion_matrix, classification_report\n",
    "\n",
    "# Instantiate final model with best hyperparameters\n",
    "final_model = XGBClassifier(\n",
    "    subsample=1.0,\n",
    "    n_estimators=200,\n",
    "    max_depth=12,\n",
    "    learning_rate=0.15,\n",
    "    colsample_bytree=0.6,\n",
    "    objective='binary:logistic',\n",
    "    eval_metric='logloss',\n",
    "    use_label_encoder=False,\n",
    "    scale_pos_weight=(y_train == 0).sum() / (y_train == 1).sum(),\n",
    "    random_state=42\n",
    ")\n",
    "\n",
    "# Fit on training data with early stopping\n",
    "final_model.fit(\n",
    "    X_train, y_train,\n",
    "    eval_set=[(X_test, y_test)],\n",
    "    verbose=False\n",
    ")\n",
    "\n",
    "# Evaluate on test set\n",
    "y_pred = final_model.predict(X_test)\n",
    "print(\"Confusion Matrix:\")\n",
    "print(confusion_matrix(y_test, y_pred))\n",
    "print(\"\\nClassification Report:\")\n",
    "print(classification_report(y_test, y_pred))"
   ]
  },
  {
   "cell_type": "markdown",
   "id": "1f3bd351",
   "metadata": {},
   "source": [
    "## Step 9: Threshold Tuning - Precision–Recall & ROC Curves\n",
    "\n",
    "Our XGBoost model outputs probabilities, so we now:\n",
    "\n",
    "1. Compute predicted fraud-probabilities on the test set.  \n",
    "2. Plot the ROC curve and report AUC.  \n",
    "3. Plot the Precision–Recall curve and report Average Precision.  \n",
    "4. Visualize F1 score as a function of decision threshold.  \n",
    "5. Tabulate precision, recall, and F1 at a few selected thresholds (e.g. 0.3, 0.5, 0.7).\n"
   ]
  },
  {
   "cell_type": "code",
   "execution_count": 15,
   "id": "c40be675",
   "metadata": {},
   "outputs": [
    {
     "data": {
      "image/png": "[encoded data removed]",
      "text/plain": [
       "<Figure size 640x480 with 1 Axes>"
      ]
     },
     "metadata": {},
     "output_type": "display_data"
    },
    {
     "data": {
      "image/png": "[encoded data removed]",
      "text/plain": [
       "<Figure size 640x480 with 1 Axes>"
      ]
     },
     "metadata": {},
     "output_type": "display_data"
    },
    {
     "data": {
      "image/png": "[encoded data removed]",
      "text/plain": [
       "<Figure size 640x480 with 1 Axes>"
      ]
     },
     "metadata": {},
     "output_type": "display_data"
    },
    {
     "name": "stdout",
     "output_type": "stream",
     "text": [
      "t=0.30 P= 0.6554756195043965 R= 0.7645687645687645 F1= 0.705831719388853\n",
      "t=0.50 P= 0.7343241987923828 R= 0.737062937062937 F1= 0.7356910190786412\n",
      "t=0.70 P= 0.7916666666666666 R= 0.7086247086247086 F1= 0.7478474784747847\n"
     ]
    }
   ],
   "source": [
    "import numpy as np\n",
    "import matplotlib.pyplot as plt\n",
    "from sklearn.metrics import (\n",
    "    roc_curve, roc_auc_score,\n",
    "    precision_recall_curve, average_precision_score\n",
    ")\n",
    "\n",
    "# 1. Predict probabilities\n",
    "y_probs = final_model.predict_proba(X_test)[:, 1]\n",
    "\n",
    "# 2. ROC\n",
    "fpr, tpr, _ = roc_curve(y_test, y_probs)\n",
    "roc_auc = roc_auc_score(y_test, y_probs)\n",
    "\n",
    "# Decimate to 5k points\n",
    "step_roc = max(len(fpr) // 5000, 1)\n",
    "plt.figure()\n",
    "plt.plot(fpr[::step_roc], tpr[::step_roc], label=f'ROC (AUC={roc_auc:.3f})')\n",
    "plt.plot([0,1],[0,1],'k--')\n",
    "plt.xlabel('FPR'); plt.ylabel('TPR')\n",
    "plt.title('ROC Curve'); plt.legend(); plt.show()\n",
    "\n",
    "# 3. PR\n",
    "precision, recall, pr_thresh = precision_recall_curve(y_test, y_probs)\n",
    "avg_prec = average_precision_score(y_test, y_probs)\n",
    "\n",
    "step_pr = max(len(precision) // 5000, 1)\n",
    "plt.figure()\n",
    "plt.plot(recall[::step_pr], precision[::step_pr], label=f'PR (AP={avg_prec:.3f})')\n",
    "plt.xlabel('Recall'); plt.ylabel('Precision')\n",
    "plt.title('Precision–Recall Curve'); plt.legend(); plt.show()\n",
    "\n",
    "# 4. Vectorized F1\n",
    "f1_scores = 2 * (precision * recall) / (precision + recall + 1e-16)\n",
    "step_f1 = max(len(f1_scores) // 5000, 1)\n",
    "plt.figure()\n",
    "plt.plot(pr_thresh[::step_f1], f1_scores[1::step_f1])  # skip the first element if needed\n",
    "plt.xlabel('Threshold'); plt.ylabel('F1 Score')\n",
    "plt.title('F1 Score by Threshold'); plt.show()\n",
    "\n",
    "# 5. Selected thresholds\n",
    "from sklearn.metrics import precision_score, recall_score\n",
    "for t in [0.3, 0.5, 0.7]:\n",
    "    preds = (y_probs >= t).astype(int)\n",
    "    print(f\"t={t:.2f}\", \n",
    "          \"P=\",precision_score(y_test, preds),\n",
    "          \"R=\",recall_score(y_test, preds),\n",
    "          \"F1=\",f1_score(y_test, preds))\n"
   ]
  },
  {
   "cell_type": "markdown",
   "id": "534b4e0a",
   "metadata": {},
   "source": [
    "### Choosing the Threshold\n",
    "\n",
    "- **Catch as much fraud as possible:**  \n",
    "  If you’re willing to handle more false alarms, choose a lower threshold around **0.30**.\n",
    "\n",
    "- **Minimize false alarms:**  \n",
    "  If you need a strict false-alarm rate and want to reduce manual reviews, choose a higher threshold around **0.70**.\n",
    "\n",
    "- **Best overall balance (F1):**  \n",
    "  For the optimal trade-off between precision and recall, **0.70** maximizes your F1 score in these results.\n"
   ]
  },
  {
   "cell_type": "code",
   "execution_count": 16,
   "id": "2fcf455b",
   "metadata": {},
   "outputs": [
    {
     "name": "stdout",
     "output_type": "stream",
     "text": [
      "[[553174    400]\n",
      " [   625   1520]]\n",
      "              precision    recall  f1-score   support\n",
      "\n",
      "           0       1.00      1.00      1.00    553574\n",
      "           1       0.79      0.71      0.75      2145\n",
      "\n",
      "    accuracy                           1.00    555719\n",
      "   macro avg       0.90      0.85      0.87    555719\n",
      "weighted avg       1.00      1.00      1.00    555719\n",
      "\n"
     ]
    }
   ],
   "source": [
    "# Example: applying the chosen threshold of 0.70\n",
    "chosen_threshold = 0.70\n",
    "y_pred_final = (y_probs >= chosen_threshold).astype(int)\n",
    "\n",
    "# Quick sanity check\n",
    "from sklearn.metrics import confusion_matrix, classification_report\n",
    "print(confusion_matrix(y_test, y_pred_final))\n",
    "print(classification_report(y_test, y_pred_final))\n"
   ]
  },
  {
   "cell_type": "markdown",
   "id": "687c481d",
   "metadata": {},
   "source": [
    "## Step 10: artifacts for Streamlit app"
   ]
  },
  {
   "cell_type": "markdown",
   "id": "6c42202a",
   "metadata": {},
   "source": []
  },
  {
   "cell_type": "code",
   "execution_count": 17,
   "id": "a4fe306f",
   "metadata": {},
   "outputs": [
    {
     "data": {
      "text/plain": [
       "['category_rates.joblib']"
      ]
     },
     "execution_count": 17,
     "metadata": {},
     "output_type": "execute_result"
    }
   ],
   "source": [
    "import joblib\n",
    "\n",
    "# 1. Dump the trained XGB model\n",
    "joblib.dump(final_model, \"final_model.joblib\")\n",
    "\n",
    "# 2. Dump your category→fraud‐rate map\n",
    "#    (make sure `cat_rates` is in your notebook namespace)\n",
    "joblib.dump(cat_rates, \"category_rates.joblib\")\n"
   ]
  },
  {
   "cell_type": "code",
   "execution_count": 21,
   "id": "9aee995d",
   "metadata": {},
   "outputs": [
    {
     "data": {
      "text/plain": [
       "['streamlit_app/uf_names.joblib']"
      ]
     },
     "execution_count": 21,
     "metadata": {},
     "output_type": "execute_result"
    }
   ],
   "source": [
    "# Userfriendly names for the categories:\n",
    "uf_names = {\n",
    "    \"misc_net\":        \"Miscellaneous (Online)\",\n",
    "    \"grocery_pos\":     \"Grocery (In-Store)\",\n",
    "    \"entertainment\":   \"Entertainment\",\n",
    "    \"gas_transport\":   \"Gas & Transport\",\n",
    "    \"misc_pos\":        \"Miscellaneous (Point-of-Sale)\",\n",
    "    \"grocery_net\":     \"Grocery (Online)\",\n",
    "    \"shopping_net\":    \"Shopping (Online)\",\n",
    "    \"shopping_pos\":    \"Shopping (In-Store)\",\n",
    "    \"food_dining\":     \"Food & Dining\",\n",
    "    \"personal_care\":   \"Personal Care\",\n",
    "    \"health_fitness\":  \"Health & Fitness\",\n",
    "    \"travel\":          \"Travel\",\n",
    "    \"kids_pets\":       \"Kids & Pets\",\n",
    "    \"home\":            \"Home\"\n",
    "}\n",
    "\n",
    "# Dump alongside other artifacts:\n",
    "import joblib\n",
    "joblib.dump(uf_names, \"streamlit_app/uf_names.joblib\")\n"
   ]
  },
  {
   "cell_type": "code",
   "execution_count": 20,
   "id": "d94dcc67",
   "metadata": {},
   "outputs": [
    {
     "name": "stdout",
     "output_type": "stream",
     "text": [
      "Category codes: ['misc_net' 'grocery_pos' 'entertainment' 'gas_transport' 'misc_pos'\n",
      " 'grocery_net' 'shopping_net' 'shopping_pos' 'food_dining' 'personal_care'\n",
      " 'health_fitness' 'travel' 'kids_pets' 'home']\n",
      "\n",
      "Category 'misc_net' (top merchants):\n",
      " merchant\n",
      "fraud_Lebsack and Sons             1332\n",
      "fraud_Huel Ltd                     1324\n",
      "fraud_Bednar Group                 1320\n",
      "fraud_Huel-Langworth               1317\n",
      "fraud_Lehner, Mosciski and King    1307\n",
      "Name: amt, dtype: int64\n",
      "\n",
      "Category 'grocery_pos' (top merchants):\n",
      " merchant\n",
      "fraud_Hackett-Lueilwitz    2568\n",
      "fraud_Doyle Ltd            2558\n",
      "fraud_Bradtke PLC          2552\n",
      "fraud_Pacocha-O'Reilly     2549\n",
      "fraud_Goodwin-Nitzsche     2542\n",
      "Name: amt, dtype: int64\n",
      "\n",
      "Category 'entertainment' (top merchants):\n",
      " merchant\n",
      "fraud_Nicolas, Hills and McGlynn    1984\n",
      "fraud_Parker, Nolan and Trantow     1984\n",
      "fraud_Bins-Tillman                  1954\n",
      "fraud_Dibbert and Sons              1927\n",
      "fraud_Douglas-White                 1917\n",
      "Name: amt, dtype: int64\n",
      "\n",
      "Category 'gas_transport' (top merchants):\n",
      " merchant\n",
      "fraud_Cummerata-Jones               2736\n",
      "fraud_Kutch LLC                     2734\n",
      "fraud_Olson, Becker and Koch        2723\n",
      "fraud_Stroman, Hudson and Erdman    2721\n",
      "fraud_Rodriguez Group               2716\n",
      "Name: amt, dtype: int64\n",
      "\n",
      "Category 'misc_pos' (top merchants):\n",
      " merchant\n",
      "fraud_Gislason Group             1691\n",
      "fraud_Flatley Group              1687\n",
      "fraud_Wiza, Schaden and Stark    1663\n",
      "fraud_Herzog Ltd                 1659\n",
      "fraud_Stamm-Rodriguez            1655\n",
      "Name: amt, dtype: int64\n",
      "\n",
      "Category 'grocery_net' (top merchants):\n",
      " merchant\n",
      "fraud_Dach-Borer                       966\n",
      "fraud_Bernier, Streich and Jewess      963\n",
      "fraud_Morissette, Weber and Wiegand    963\n",
      "fraud_Ferry, Reichel and DuBuque       960\n",
      "fraud_Roob LLC                         952\n",
      "Name: amt, dtype: int64\n",
      "\n",
      "Category 'shopping_net' (top merchants):\n",
      " merchant\n",
      "fraud_Fisher Inc                   2041\n",
      "fraud_Gleason-Macejkovic           2033\n",
      "fraud_Predovic Inc                 2021\n",
      "fraud_Zboncak, Rowe and Murazik    2017\n",
      "fraud_Hills-Witting                2016\n",
      "Name: amt, dtype: int64\n",
      "\n",
      "Category 'shopping_pos' (top merchants):\n",
      " merchant\n",
      "fraud_Stoltenberg-Beatty           2434\n",
      "fraud_Hickle Group                 2416\n",
      "fraud_Schuppe, Nolan and Hoeger    2414\n",
      "fraud_Kihn Inc                     2396\n",
      "fraud_Morissette PLC               2394\n",
      "Name: amt, dtype: int64\n",
      "\n",
      "Category 'food_dining' (top merchants):\n",
      " merchant\n",
      "fraud_Hermiston, Russel and Price       1973\n",
      "fraud_Reinger, Weissnat and Strosin     1910\n",
      "fraud_Graham, Hegmann and Hammes        1896\n",
      "fraud_Armstrong, Walter and Gottlieb    1883\n",
      "fraud_Volkman PLC                       1881\n",
      "Name: amt, dtype: int64\n",
      "\n",
      "Category 'personal_care' (top merchants):\n",
      " merchant\n",
      "fraud_Becker, Harris and Harvey        1882\n",
      "fraud_Kautzer and Sons                 1882\n",
      "fraud_Yost-Rogahn                      1872\n",
      "fraud_Erdman-Ebert                     1863\n",
      "fraud_Nienow, Barrows and Romaguera    1860\n",
      "Name: amt, dtype: int64\n",
      "\n",
      "Category 'health_fitness' (top merchants):\n",
      " merchant\n",
      "fraud_Mueller, Gerhold and Mueller    1828\n",
      "fraud_Hirthe-Beier                    1807\n",
      "fraud_Waters-Cruickshank              1800\n",
      "fraud_Hyatt, Russel and Gleichner     1789\n",
      "fraud_Haley, Batz and Auer            1787\n",
      "Name: amt, dtype: int64\n",
      "\n",
      "Category 'travel' (top merchants):\n",
      " merchant\n",
      "fraud_Corwin-Romaguera              875\n",
      "fraud_Block-Hauck                   864\n",
      "fraud_Hartmann, Rowe and Hermann    850\n",
      "fraud_Fritsch LLC                   846\n",
      "fraud_Hyatt-Blick                   845\n",
      "Name: amt, dtype: int64\n",
      "\n",
      "Category 'kids_pets' (top merchants):\n",
      " merchant\n",
      "fraud_Hilpert-Conroy                   2363\n",
      "fraud_Little Ltd                       2361\n",
      "fraud_Yost, Schamberger and Windler    2358\n",
      "fraud_Bernier and Sons                 2352\n",
      "fraud_Schoen Ltd                       2337\n",
      "Name: amt, dtype: int64\n",
      "\n",
      "Category 'home' (top merchants):\n",
      " merchant\n",
      "fraud_Terry Ltd                        2571\n",
      "fraud_O'Reilly, Mohr and Purdy         2563\n",
      "fraud_Medhurst Inc                     2556\n",
      "fraud_Eichmann-Kilback                 2554\n",
      "fraud_Denesik, Powlowski and Pouros    2549\n",
      "Name: amt, dtype: int64\n"
     ]
    }
   ],
   "source": [
    "import pandas as pd\n",
    "\n",
    "# 1. Load your full training file\n",
    "df_full = pd.read_csv(f\"{base_path}/fraudTrain.csv\")\n",
    "\n",
    "# 2. List all the unique category codes\n",
    "cats = df_full[\"category\"].unique()\n",
    "print(\"Category codes:\", cats)\n",
    "\n",
    "# 3. For each code, show the top merchant names and maybe descriptions\n",
    "for c in cats:\n",
    "    sample = (\n",
    "        df_full[df_full[\"category\"] == c]\n",
    "        .groupby(\"merchant\")[\"amt\"]\n",
    "        .count()              # count transactions per merchant\n",
    "        .sort_values(ascending=False)\n",
    "        .head(5)              # top 5 merchants in that category\n",
    "    )\n",
    "    print(f\"\\nCategory {c!r} (top merchants):\\n\", sample)\n"
   ]
  },
  {
   "cell_type": "code",
   "execution_count": null,
   "id": "830ba014",
   "metadata": {},
   "outputs": [],
   "source": []
  }
 ],
 "metadata": {
  "kernelspec": {
   "display_name": "fraud-detect",
   "language": "python",
   "name": "python3"
  },
  "language_info": {
   "codemirror_mode": {
    "name": "ipython",
    "version": 3
   },
   "file_extension": ".py",
   "mimetype": "text/x-python",
   "name": "python",
   "nbconvert_exporter": "python",
   "pygments_lexer": "ipython3",
   "version": "3.11.11"
  }
 },
 "nbformat": 4,
 "nbformat_minor": 5
}
