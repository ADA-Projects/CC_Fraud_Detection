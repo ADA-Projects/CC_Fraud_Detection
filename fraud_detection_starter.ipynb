{
 "cells": [
  {
   "cell_type": "markdown",
   "id": "14da112f",
   "metadata": {},
   "source": [
    "# Credit Card Fraud Detection\n",
    "This notebook walks through building a fraud detection model using Kaggle's credit card dataset."
   ]
  },
  {
   "cell_type": "markdown",
   "id": "f4b19dfb",
   "metadata": {},
   "source": [
    "## Step 1: Load and Explore Data"
   ]
  },
  {
   "cell_type": "code",
   "execution_count": null,
   "id": "a4def8dc",
   "metadata": {},
   "outputs": [],
   "source": [
    "import pandas as pd\n",
    "import matplotlib.pyplot as plt\n",
    "import seaborn as sns\n",
    "\n",
    "# Load data (replace with your path if needed)\n",
    "df = pd.read_csv('../data/creditcard.csv')\n",
    "df.head()"
   ]
  },
  {
   "cell_type": "markdown",
   "id": "05f7d09a",
   "metadata": {},
   "source": [
    "## Step 2: Preprocessing and EDA"
   ]
  },
  {
   "cell_type": "code",
   "execution_count": null,
   "id": "7d023eaa",
   "metadata": {},
   "outputs": [],
   "source": [
    "# Check for class imbalance and missing data\n",
    "print(df['Class'].value_counts(normalize=True))\n",
    "df.isnull().sum().sort_values(ascending=False)"
   ]
  },
  {
   "cell_type": "markdown",
   "id": "bd263bfd",
   "metadata": {},
   "source": [
    "## Step 3: Train-Test Split and SMOTE"
   ]
  },
  {
   "cell_type": "code",
   "execution_count": null,
   "id": "6aff293d",
   "metadata": {},
   "outputs": [],
   "source": [
    "from sklearn.model_selection import train_test_split\n",
    "from imblearn.over_sampling import SMOTE\n",
    "\n",
    "X = df.drop('Class', axis=1)\n",
    "y = df['Class']\n",
    "\n",
    "X_train, X_test, y_train, y_test = train_test_split(X, y, test_size=0.2, stratify=y, random_state=42)\n",
    "\n",
    "# Apply SMOTE\n",
    "sm = SMOTE(random_state=42)\n",
    "X_train_res, y_train_res = sm.fit_resample(X_train, y_train)"
   ]
  },
  {
   "cell_type": "markdown",
   "id": "d9ab0273",
   "metadata": {},
   "source": [
    "## Step 4: Train XGBoost Model"
   ]
  },
  {
   "cell_type": "code",
   "execution_count": null,
   "id": "83e180b5",
   "metadata": {},
   "outputs": [],
   "source": [
    "from xgboost import XGBClassifier\n",
    "from sklearn.metrics import classification_report, confusion_matrix\n",
    "\n",
    "model = XGBClassifier(use_label_encoder=False, eval_metric='logloss')\n",
    "model.fit(X_train_res, y_train_res)\n",
    "y_pred = model.predict(X_test)\n",
    "\n",
    "print(classification_report(y_test, y_pred))\n",
    "print(confusion_matrix(y_test, y_pred))"
   ]
  },
  {
   "cell_type": "markdown",
   "id": "2e29f576",
   "metadata": {},
   "source": [
    "## Step 5: Model Interpretation with SHAP"
   ]
  },
  {
   "cell_type": "code",
   "execution_count": null,
   "id": "404f6212",
   "metadata": {},
   "outputs": [],
   "source": [
    "import shap\n",
    "explainer = shap.Explainer(model)\n",
    "shap_values = explainer(X_test[:100])\n",
    "shap.plots.beeswarm(shap_values)"
   ]
  }
 ],
 "metadata": {},
 "nbformat": 4,
 "nbformat_minor": 5
}
